{
 "cells": [
  {
   "cell_type": "code",
   "execution_count": 2,
   "id": "strategic-style",
   "metadata": {
    "slideshow": {
     "slide_type": "-"
    }
   },
   "outputs": [],
   "source": [
    "import pandas as pd\n",
    "import numpy as np\n",
    "import matplotlib.pyplot as plt\n",
    "import seaborn as sns\n",
    "%matplotlib inline"
   ]
  },
  {
   "cell_type": "code",
   "execution_count": 3,
   "id": "basic-aluminum",
   "metadata": {
    "slideshow": {
     "slide_type": "-"
    }
   },
   "outputs": [],
   "source": [
    "from nltk.tokenize import RegexpTokenizer\n",
    "from nltk.corpus import stopwords\n",
    "from collections import defaultdict\n",
    "\n",
    "def match_countries(df1, df2):\n",
    "\n",
    "    # Initialize nltk tokenizer and stopwords dictionary\n",
    "    pattern = r'''(?x)          # set flag to allow verbose regexps\n",
    "            (?:[A-Z]\\.)+        # abbreviations, e.g. U.S.A.\n",
    "          | \\w+(?:-\\w+)*        # words with optional internal hyphens\n",
    "        '''\n",
    "    tokenizer = RegexpTokenizer(pattern)\n",
    "    stop_words = stopwords.words('english') + ['rep', 'republic']\n",
    "\n",
    "    # Filter unmatched countries in df1 and df2\n",
    "    df1_unmatched = pd.DataFrame(index = set(df1[~df1['Country'].isin(df2['Country'])]['Country']))\n",
    "    df2_unmatched = pd.DataFrame(index = set(df2[~df2['Country'].isin(df1['Country'])]['Country']))\n",
    "\n",
    "    # Tokenize unmatched country names from df1 dataset\n",
    "    df1_countries = [tokenizer.tokenize(i) for i in df1_unmatched.index]\n",
    "    df1_countries = list(map(lambda tokens: [t for t in tokens if t.lower() not in stop_words], df1_countries))\n",
    "    df1_unmatched['tokenized'] = df1_countries\n",
    "\n",
    "    # Tokenize unmatched country names from df2 dataset\n",
    "    df2_countries = [tokenizer.tokenize(i) for i in df2_unmatched.index]\n",
    "    df2_countries = list(map(lambda tokens: [t for t in tokens if t.lower() not in stop_words], df2_countries))\n",
    "    df2_unmatched['tokenized'] = df2_countries\n",
    "\n",
    "    # Initialize empty dictionary to store match counts\n",
    "    matches = defaultdict(dict)\n",
    "\n",
    "    # Iterate through unmatched df1 country names\n",
    "    for index1, tokens1 in df1_unmatched.itertuples():\n",
    "\n",
    "        # Iterate through unmatched df2 country names\n",
    "        for index2, tokens2 in df2_unmatched.itertuples():\n",
    "\n",
    "            # Store match counts between tokenized country names\n",
    "            matches[index1][index2] = len([t for t in tokens1 if t.startswith(tuple(tokens2))] + \n",
    "                                          [t for t in tokens2 if t.startswith(tuple(tokens1))])\n",
    "\n",
    "    # Convert dictionary to dataframe        \n",
    "    matches = pd.DataFrame.from_dict(matches)\n",
    "\n",
    "    # Initialize empty dictionary for matched country names\n",
    "    countries = {}\n",
    "\n",
    "    # Iterate through match counts between country names\n",
    "    for index, match in matches.iterrows():\n",
    "\n",
    "        # Find matching country name based on max match count in forward direction\n",
    "        forward_match = np.where(match == np.amax(match))[0].tolist()\n",
    "\n",
    "        # Make sure only one matching country name in forward direction\n",
    "        if len(forward_match) == 1:\n",
    "\n",
    "            # Find matching country name based on max match count in reverse direction\n",
    "            reverse_match = np.where(matches.iloc[:, forward_match] == np.amax(matches.iloc[:, forward_match]))[0].tolist()\n",
    "\n",
    "            # Make sure only one matching country name in reverse direction\n",
    "            if len(reverse_match) == 1:\n",
    "\n",
    "                # Store matching country name pair as key-value pair\n",
    "                countries[matches.iloc[reverse_match, forward_match].index[0]] = matches.iloc[reverse_match, forward_match].columns[0]\n",
    "                \n",
    "    return countries"
   ]
  },
  {
   "cell_type": "markdown",
   "id": "documentary-problem",
   "metadata": {
    "slideshow": {
     "slide_type": "-"
    }
   },
   "source": [
    "1. Using the pandas `read_csv()` function, read the GDP dataset into your notebook as a DataFrame called `gdp_df`. \n",
    "    * Take a look at the first 10 rows. \n",
    "    * Look at the last 5 rows. Do you see a problem?\n",
    "    * Redo the `read_csv()` call to correct this issue - **do not** modify the original csv file."
   ]
  },
  {
   "cell_type": "code",
   "execution_count": 44,
   "id": "metric-happening",
   "metadata": {
    "scrolled": true,
    "slideshow": {
     "slide_type": "-"
    }
   },
   "outputs": [
    {
     "data": {
      "text/html": [
       "<div>\n",
       "<style scoped>\n",
       "    .dataframe tbody tr th:only-of-type {\n",
       "        vertical-align: middle;\n",
       "    }\n",
       "\n",
       "    .dataframe tbody tr th {\n",
       "        vertical-align: top;\n",
       "    }\n",
       "\n",
       "    .dataframe thead th {\n",
       "        text-align: right;\n",
       "    }\n",
       "</style>\n",
       "<table border=\"1\" class=\"dataframe\">\n",
       "  <thead>\n",
       "    <tr style=\"text-align: right;\">\n",
       "      <th></th>\n",
       "      <th>Country or Area</th>\n",
       "      <th>Year</th>\n",
       "      <th>Value</th>\n",
       "      <th>Value Footnotes</th>\n",
       "    </tr>\n",
       "  </thead>\n",
       "  <tbody>\n",
       "    <tr>\n",
       "      <th>0</th>\n",
       "      <td>Afghanistan</td>\n",
       "      <td>2019</td>\n",
       "      <td>2065.036398</td>\n",
       "      <td>NaN</td>\n",
       "    </tr>\n",
       "    <tr>\n",
       "      <th>1</th>\n",
       "      <td>Afghanistan</td>\n",
       "      <td>2018</td>\n",
       "      <td>2033.779002</td>\n",
       "      <td>NaN</td>\n",
       "    </tr>\n",
       "    <tr>\n",
       "      <th>2</th>\n",
       "      <td>Afghanistan</td>\n",
       "      <td>2017</td>\n",
       "      <td>2058.383832</td>\n",
       "      <td>NaN</td>\n",
       "    </tr>\n",
       "    <tr>\n",
       "      <th>3</th>\n",
       "      <td>Afghanistan</td>\n",
       "      <td>2016</td>\n",
       "      <td>2057.062164</td>\n",
       "      <td>NaN</td>\n",
       "    </tr>\n",
       "    <tr>\n",
       "      <th>4</th>\n",
       "      <td>Afghanistan</td>\n",
       "      <td>2015</td>\n",
       "      <td>2068.265904</td>\n",
       "      <td>NaN</td>\n",
       "    </tr>\n",
       "    <tr>\n",
       "      <th>5</th>\n",
       "      <td>Afghanistan</td>\n",
       "      <td>2014</td>\n",
       "      <td>2102.385234</td>\n",
       "      <td>NaN</td>\n",
       "    </tr>\n",
       "    <tr>\n",
       "      <th>6</th>\n",
       "      <td>Afghanistan</td>\n",
       "      <td>2013</td>\n",
       "      <td>2116.465454</td>\n",
       "      <td>NaN</td>\n",
       "    </tr>\n",
       "    <tr>\n",
       "      <th>7</th>\n",
       "      <td>Afghanistan</td>\n",
       "      <td>2012</td>\n",
       "      <td>2075.491747</td>\n",
       "      <td>NaN</td>\n",
       "    </tr>\n",
       "    <tr>\n",
       "      <th>8</th>\n",
       "      <td>Afghanistan</td>\n",
       "      <td>2011</td>\n",
       "      <td>1904.559799</td>\n",
       "      <td>NaN</td>\n",
       "    </tr>\n",
       "    <tr>\n",
       "      <th>9</th>\n",
       "      <td>Afghanistan</td>\n",
       "      <td>2010</td>\n",
       "      <td>1957.029338</td>\n",
       "      <td>NaN</td>\n",
       "    </tr>\n",
       "  </tbody>\n",
       "</table>\n",
       "</div>"
      ],
      "text/plain": [
       "  Country or Area  Year        Value  Value Footnotes\n",
       "0     Afghanistan  2019  2065.036398              NaN\n",
       "1     Afghanistan  2018  2033.779002              NaN\n",
       "2     Afghanistan  2017  2058.383832              NaN\n",
       "3     Afghanistan  2016  2057.062164              NaN\n",
       "4     Afghanistan  2015  2068.265904              NaN\n",
       "5     Afghanistan  2014  2102.385234              NaN\n",
       "6     Afghanistan  2013  2116.465454              NaN\n",
       "7     Afghanistan  2012  2075.491747              NaN\n",
       "8     Afghanistan  2011  1904.559799              NaN\n",
       "9     Afghanistan  2010  1957.029338              NaN"
      ]
     },
     "metadata": {},
     "output_type": "display_data"
    },
    {
     "data": {
      "text/html": [
       "<div>\n",
       "<style scoped>\n",
       "    .dataframe tbody tr th:only-of-type {\n",
       "        vertical-align: middle;\n",
       "    }\n",
       "\n",
       "    .dataframe tbody tr th {\n",
       "        vertical-align: top;\n",
       "    }\n",
       "\n",
       "    .dataframe thead th {\n",
       "        text-align: right;\n",
       "    }\n",
       "</style>\n",
       "<table border=\"1\" class=\"dataframe\">\n",
       "  <thead>\n",
       "    <tr style=\"text-align: right;\">\n",
       "      <th></th>\n",
       "      <th>Country or Area</th>\n",
       "      <th>Year</th>\n",
       "      <th>Value</th>\n",
       "      <th>Value Footnotes</th>\n",
       "    </tr>\n",
       "  </thead>\n",
       "  <tbody>\n",
       "    <tr>\n",
       "      <th>6865</th>\n",
       "      <td>Zimbabwe</td>\n",
       "      <td>1992</td>\n",
       "      <td>3054.889178</td>\n",
       "      <td>NaN</td>\n",
       "    </tr>\n",
       "    <tr>\n",
       "      <th>6866</th>\n",
       "      <td>Zimbabwe</td>\n",
       "      <td>1991</td>\n",
       "      <td>3426.598094</td>\n",
       "      <td>NaN</td>\n",
       "    </tr>\n",
       "    <tr>\n",
       "      <th>6867</th>\n",
       "      <td>Zimbabwe</td>\n",
       "      <td>1990</td>\n",
       "      <td>3324.348171</td>\n",
       "      <td>NaN</td>\n",
       "    </tr>\n",
       "    <tr>\n",
       "      <th>6868</th>\n",
       "      <td>footnoteSeqID</td>\n",
       "      <td>Footnote</td>\n",
       "      <td>NaN</td>\n",
       "      <td>NaN</td>\n",
       "    </tr>\n",
       "    <tr>\n",
       "      <th>6869</th>\n",
       "      <td>2</td>\n",
       "      <td>Excludes South Sudan after July 9, 2011.</td>\n",
       "      <td>NaN</td>\n",
       "      <td>NaN</td>\n",
       "    </tr>\n",
       "  </tbody>\n",
       "</table>\n",
       "</div>"
      ],
      "text/plain": [
       "     Country or Area                                      Year        Value  \\\n",
       "6865        Zimbabwe                                      1992  3054.889178   \n",
       "6866        Zimbabwe                                      1991  3426.598094   \n",
       "6867        Zimbabwe                                      1990  3324.348171   \n",
       "6868   footnoteSeqID                                  Footnote          NaN   \n",
       "6869               2  Excludes South Sudan after July 9, 2011.          NaN   \n",
       "\n",
       "      Value Footnotes  \n",
       "6865              NaN  \n",
       "6866              NaN  \n",
       "6867              NaN  \n",
       "6868              NaN  \n",
       "6869              NaN  "
      ]
     },
     "metadata": {},
     "output_type": "display_data"
    }
   ],
   "source": [
    "gdp_df = pd.read_csv('../data/gdp_per_capita.csv')\n",
    "display(gdp_df.head(10))\n",
    "display(gdp_df.tail())"
   ]
  },
  {
   "cell_type": "code",
   "execution_count": 73,
   "id": "personalized-fence",
   "metadata": {
    "slideshow": {
     "slide_type": "-"
    }
   },
   "outputs": [],
   "source": [
    "gdp_df = pd.read_csv('../data/gdp_per_capita.csv', nrows = 6868)"
   ]
  },
  {
   "cell_type": "markdown",
   "id": "composed-transcript",
   "metadata": {
    "slideshow": {
     "slide_type": "-"
    }
   },
   "source": [
    "6. Drop the 'Value Footnotes' column, and rename the remaining columns to ‘Country’, ‘Year’, and ‘GDP_Per_Capita’."
   ]
  },
  {
   "cell_type": "code",
   "execution_count": 74,
   "id": "rolled-peninsula",
   "metadata": {
    "slideshow": {
     "slide_type": "-"
    }
   },
   "outputs": [],
   "source": [
    "gdp_df = gdp_df.drop(columns = 'Value Footnotes')\n",
    "gdp_df.columns = ['Country', 'Year', 'GDP_Per_Capita']"
   ]
  },
  {
   "cell_type": "markdown",
   "id": "bored-relay",
   "metadata": {
    "slideshow": {
     "slide_type": "-"
    }
   },
   "source": [
    "7. How many rows and columns does `gdp_df` have? What are the data types of its columns? If any of the columns are not the expected types, figure out why and fix it."
   ]
  },
  {
   "cell_type": "code",
   "execution_count": 75,
   "id": "middle-avenue",
   "metadata": {
    "slideshow": {
     "slide_type": "-"
    }
   },
   "outputs": [
    {
     "name": "stdout",
     "output_type": "stream",
     "text": [
      "<class 'pandas.core.frame.DataFrame'>\n",
      "RangeIndex: 6868 entries, 0 to 6867\n",
      "Data columns (total 3 columns):\n",
      " #   Column          Non-Null Count  Dtype  \n",
      "---  ------          --------------  -----  \n",
      " 0   Country         6868 non-null   object \n",
      " 1   Year            6868 non-null   int64  \n",
      " 2   GDP_Per_Capita  6868 non-null   float64\n",
      "dtypes: float64(1), int64(1), object(1)\n",
      "memory usage: 161.1+ KB\n"
     ]
    },
    {
     "data": {
      "text/plain": [
       "None"
      ]
     },
     "metadata": {},
     "output_type": "display_data"
    }
   ],
   "source": [
    "display(gdp_df.info())\n",
    "\n",
    "# gdp_df has 6868 rows and 3 columns."
   ]
  },
  {
   "cell_type": "markdown",
   "id": "opponent-avenue",
   "metadata": {
    "slideshow": {
     "slide_type": "-"
    }
   },
   "source": [
    "8. Which years are represented in this dataset? Take a look at the number of observations per year. What do you notice?"
   ]
  },
  {
   "cell_type": "code",
   "execution_count": 76,
   "id": "temporal-demographic",
   "metadata": {
    "slideshow": {
     "slide_type": "-"
    }
   },
   "outputs": [
    {
     "data": {
      "text/plain": [
       "2013    238\n",
       "2014    238\n",
       "2016    238\n",
       "2015    238\n",
       "2017    238\n",
       "2012    237\n",
       "2018    237\n",
       "2011    237\n",
       "2009    236\n",
       "2010    236\n",
       "2007    235\n",
       "2008    235\n",
       "2006    235\n",
       "2004    234\n",
       "2005    234\n",
       "2002    233\n",
       "2003    233\n",
       "2001    232\n",
       "2019    231\n",
       "2000    231\n",
       "1999    224\n",
       "1998    223\n",
       "1997    223\n",
       "1996    221\n",
       "1995    221\n",
       "1994    214\n",
       "1993    212\n",
       "1992    209\n",
       "1991    208\n",
       "1990    207\n",
       "Name: Year, dtype: int64"
      ]
     },
     "metadata": {},
     "output_type": "display_data"
    }
   ],
   "source": [
    "display(gdp_df['Year'].value_counts())\n",
    "\n",
    "# There are less observations for earlier years compared to more recent years."
   ]
  },
  {
   "cell_type": "markdown",
   "id": "convertible-lawsuit",
   "metadata": {
    "slideshow": {
     "slide_type": "-"
    }
   },
   "source": [
    "9. How many countries are represented in this dataset? Which countries are least represented in the dataset? Why do you think these countries have so few observations?"
   ]
  },
  {
   "cell_type": "code",
   "execution_count": 77,
   "id": "labeled-helicopter",
   "metadata": {
    "slideshow": {
     "slide_type": "-"
    }
   },
   "outputs": [
    {
     "data": {
      "text/plain": [
       "Philippines                  30\n",
       "Solomon Islands              30\n",
       "Kenya                        30\n",
       "Ghana                        30\n",
       "Ethiopia                     30\n",
       "                             ..\n",
       "Nauru                        16\n",
       "Cayman Islands               13\n",
       "Sint Maarten (Dutch part)    10\n",
       "Turks and Caicos Islands      9\n",
       "Djibouti                      7\n",
       "Name: Country, Length: 238, dtype: int64"
      ]
     },
     "metadata": {},
     "output_type": "display_data"
    }
   ],
   "source": [
    "display(gdp_df['Country'].value_counts())\n",
    "\n",
    "# There are 238 entries in this dataset, the vast majority of which are countries. Djibouti (7), Turks and Caicos Islands (9), and Sint Maarten (10) have the least observations in the dataset, likely because these countries lack reliable data collection."
   ]
  },
  {
   "cell_type": "markdown",
   "id": "limiting-hamilton",
   "metadata": {
    "slideshow": {
     "slide_type": "-"
    }
   },
   "source": [
    "10. Create a new dataframe by subsetting `gdp_df` to just the year 2014. Call this new dataframe `gdp_2014`."
   ]
  },
  {
   "cell_type": "code",
   "execution_count": 78,
   "id": "applied-revision",
   "metadata": {
    "slideshow": {
     "slide_type": "-"
    }
   },
   "outputs": [],
   "source": [
    "gdp_2014 = gdp_df[gdp_df['Year'] == 2014]"
   ]
  },
  {
   "cell_type": "markdown",
   "id": "grateful-hospital",
   "metadata": {
    "slideshow": {
     "slide_type": "-"
    }
   },
   "source": [
    "11. Use `.describe()` to find the summary statistics for GDP per capita in 2014. "
   ]
  },
  {
   "cell_type": "code",
   "execution_count": 79,
   "id": "tired-coupon",
   "metadata": {
    "slideshow": {
     "slide_type": "-"
    }
   },
   "outputs": [
    {
     "data": {
      "text/html": [
       "<div>\n",
       "<style scoped>\n",
       "    .dataframe tbody tr th:only-of-type {\n",
       "        vertical-align: middle;\n",
       "    }\n",
       "\n",
       "    .dataframe tbody tr th {\n",
       "        vertical-align: top;\n",
       "    }\n",
       "\n",
       "    .dataframe thead th {\n",
       "        text-align: right;\n",
       "    }\n",
       "</style>\n",
       "<table border=\"1\" class=\"dataframe\">\n",
       "  <thead>\n",
       "    <tr style=\"text-align: right;\">\n",
       "      <th></th>\n",
       "      <th>Year</th>\n",
       "      <th>GDP_Per_Capita</th>\n",
       "    </tr>\n",
       "  </thead>\n",
       "  <tbody>\n",
       "    <tr>\n",
       "      <th>count</th>\n",
       "      <td>238.0</td>\n",
       "      <td>238.000000</td>\n",
       "    </tr>\n",
       "    <tr>\n",
       "      <th>mean</th>\n",
       "      <td>2014.0</td>\n",
       "      <td>19766.710348</td>\n",
       "    </tr>\n",
       "    <tr>\n",
       "      <th>std</th>\n",
       "      <td>0.0</td>\n",
       "      <td>20983.869623</td>\n",
       "    </tr>\n",
       "    <tr>\n",
       "      <th>min</th>\n",
       "      <td>2014.0</td>\n",
       "      <td>822.610458</td>\n",
       "    </tr>\n",
       "    <tr>\n",
       "      <th>25%</th>\n",
       "      <td>2014.0</td>\n",
       "      <td>4753.110934</td>\n",
       "    </tr>\n",
       "    <tr>\n",
       "      <th>50%</th>\n",
       "      <td>2014.0</td>\n",
       "      <td>12209.385755</td>\n",
       "    </tr>\n",
       "    <tr>\n",
       "      <th>75%</th>\n",
       "      <td>2014.0</td>\n",
       "      <td>26803.610474</td>\n",
       "    </tr>\n",
       "    <tr>\n",
       "      <th>max</th>\n",
       "      <td>2014.0</td>\n",
       "      <td>156514.133850</td>\n",
       "    </tr>\n",
       "  </tbody>\n",
       "</table>\n",
       "</div>"
      ],
      "text/plain": [
       "         Year  GDP_Per_Capita\n",
       "count   238.0      238.000000\n",
       "mean   2014.0    19766.710348\n",
       "std       0.0    20983.869623\n",
       "min    2014.0      822.610458\n",
       "25%    2014.0     4753.110934\n",
       "50%    2014.0    12209.385755\n",
       "75%    2014.0    26803.610474\n",
       "max    2014.0   156514.133850"
      ]
     },
     "metadata": {},
     "output_type": "display_data"
    }
   ],
   "source": [
    "display(gdp_2014.describe())"
   ]
  },
  {
   "cell_type": "markdown",
   "id": "tribal-edgar",
   "metadata": {
    "slideshow": {
     "slide_type": "-"
    }
   },
   "source": [
    "12. Create a histogram of GDP Per Capita numbers for 2014 (you may wish to adjust the number of bins for your histogram). How would you describe the shape of the distribution?"
   ]
  },
  {
   "cell_type": "code",
   "execution_count": 80,
   "id": "speaking-surge",
   "metadata": {
    "slideshow": {
     "slide_type": "-"
    }
   },
   "outputs": [
    {
     "data": {
      "image/png": "[encoded data removed]",
      "text/plain": [
       "<Figure size 432x288 with 1 Axes>"
      ]
     },
     "metadata": {
      "needs_background": "light"
     },
     "output_type": "display_data"
    }
   ],
   "source": [
    "sns.histplot(gdp_2014['GDP_Per_Capita']);\n",
    "\n",
    "# The distribution is right-skewed unimodal."
   ]
  },
  {
   "cell_type": "markdown",
   "id": "ignored-footwear",
   "metadata": {
    "slideshow": {
     "slide_type": "-"
    }
   },
   "source": [
    "13. Find the top 5 counties and bottom 5 countries by GDP per capita in 2014."
   ]
  },
  {
   "cell_type": "code",
   "execution_count": 81,
   "id": "direct-objective",
   "metadata": {
    "slideshow": {
     "slide_type": "-"
    }
   },
   "outputs": [
    {
     "data": {
      "text/html": [
       "<div>\n",
       "<style scoped>\n",
       "    .dataframe tbody tr th:only-of-type {\n",
       "        vertical-align: middle;\n",
       "    }\n",
       "\n",
       "    .dataframe tbody tr th {\n",
       "        vertical-align: top;\n",
       "    }\n",
       "\n",
       "    .dataframe thead th {\n",
       "        text-align: right;\n",
       "    }\n",
       "</style>\n",
       "<table border=\"1\" class=\"dataframe\">\n",
       "  <thead>\n",
       "    <tr style=\"text-align: right;\">\n",
       "      <th></th>\n",
       "      <th>Country</th>\n",
       "      <th>Year</th>\n",
       "      <th>GDP_Per_Capita</th>\n",
       "    </tr>\n",
       "  </thead>\n",
       "  <tbody>\n",
       "    <tr>\n",
       "      <th>3721</th>\n",
       "      <td>Macao SAR, China</td>\n",
       "      <td>2014</td>\n",
       "      <td>156514.133850</td>\n",
       "    </tr>\n",
       "    <tr>\n",
       "      <th>3691</th>\n",
       "      <td>Luxembourg</td>\n",
       "      <td>2014</td>\n",
       "      <td>108760.916030</td>\n",
       "    </tr>\n",
       "    <tr>\n",
       "      <th>5138</th>\n",
       "      <td>Qatar</td>\n",
       "      <td>2014</td>\n",
       "      <td>95578.416973</td>\n",
       "    </tr>\n",
       "    <tr>\n",
       "      <th>5464</th>\n",
       "      <td>Singapore</td>\n",
       "      <td>2014</td>\n",
       "      <td>87808.663157</td>\n",
       "    </tr>\n",
       "    <tr>\n",
       "      <th>561</th>\n",
       "      <td>Bermuda</td>\n",
       "      <td>2014</td>\n",
       "      <td>77361.104881</td>\n",
       "    </tr>\n",
       "  </tbody>\n",
       "</table>\n",
       "</div>"
      ],
      "text/plain": [
       "               Country  Year  GDP_Per_Capita\n",
       "3721  Macao SAR, China  2014   156514.133850\n",
       "3691        Luxembourg  2014   108760.916030\n",
       "5138             Qatar  2014    95578.416973\n",
       "5464         Singapore  2014    87808.663157\n",
       "561            Bermuda  2014    77361.104881"
      ]
     },
     "metadata": {},
     "output_type": "display_data"
    },
    {
     "data": {
      "text/html": [
       "<div>\n",
       "<style scoped>\n",
       "    .dataframe tbody tr th:only-of-type {\n",
       "        vertical-align: middle;\n",
       "    }\n",
       "\n",
       "    .dataframe tbody tr th {\n",
       "        vertical-align: top;\n",
       "    }\n",
       "\n",
       "    .dataframe thead th {\n",
       "        text-align: right;\n",
       "    }\n",
       "</style>\n",
       "<table border=\"1\" class=\"dataframe\">\n",
       "  <thead>\n",
       "    <tr style=\"text-align: right;\">\n",
       "      <th></th>\n",
       "      <th>Country</th>\n",
       "      <th>Year</th>\n",
       "      <th>GDP_Per_Capita</th>\n",
       "    </tr>\n",
       "  </thead>\n",
       "  <tbody>\n",
       "    <tr>\n",
       "      <th>1047</th>\n",
       "      <td>Central African Republic</td>\n",
       "      <td>2014</td>\n",
       "      <td>822.610458</td>\n",
       "    </tr>\n",
       "    <tr>\n",
       "      <th>827</th>\n",
       "      <td>Burundi</td>\n",
       "      <td>2014</td>\n",
       "      <td>886.235777</td>\n",
       "    </tr>\n",
       "    <tr>\n",
       "      <th>3781</th>\n",
       "      <td>Malawi</td>\n",
       "      <td>2014</td>\n",
       "      <td>1027.208496</td>\n",
       "    </tr>\n",
       "    <tr>\n",
       "      <th>1422</th>\n",
       "      <td>Dem. Rep. Congo</td>\n",
       "      <td>2014</td>\n",
       "      <td>1029.790785</td>\n",
       "    </tr>\n",
       "    <tr>\n",
       "      <th>4528</th>\n",
       "      <td>Niger</td>\n",
       "      <td>2014</td>\n",
       "      <td>1127.615541</td>\n",
       "    </tr>\n",
       "  </tbody>\n",
       "</table>\n",
       "</div>"
      ],
      "text/plain": [
       "                       Country  Year  GDP_Per_Capita\n",
       "1047  Central African Republic  2014      822.610458\n",
       "827                    Burundi  2014      886.235777\n",
       "3781                    Malawi  2014     1027.208496\n",
       "1422           Dem. Rep. Congo  2014     1029.790785\n",
       "4528                     Niger  2014     1127.615541"
      ]
     },
     "metadata": {},
     "output_type": "display_data"
    }
   ],
   "source": [
    "display(gdp_2014.sort_values('GDP_Per_Capita', ascending = False).head())\n",
    "display(gdp_2014.sort_values('GDP_Per_Capita', ascending = True).head())"
   ]
  },
  {
   "cell_type": "markdown",
   "id": "interpreted-upper",
   "metadata": {
    "slideshow": {
     "slide_type": "-"
    }
   },
   "source": [
    "14. Now, return to the full dataset, `gdp_df`. Pivot the data for 1990 and 2017 (using the pandas `.pivot_table()` method or another method) so that each row corresponds to a country, each column corresponds to a year, and the values in the table give the GDP_Per_Capita amount. Drop any rows that are missing values for either 1990 or 2017. Save the result to a dataframe named `gdp_pivoted`."
   ]
  },
  {
   "cell_type": "code",
   "execution_count": 86,
   "id": "ancient-absence",
   "metadata": {
    "slideshow": {
     "slide_type": "-"
    }
   },
   "outputs": [
    {
     "data": {
      "text/html": [
       "<div>\n",
       "<style scoped>\n",
       "    .dataframe tbody tr th:only-of-type {\n",
       "        vertical-align: middle;\n",
       "    }\n",
       "\n",
       "    .dataframe tbody tr th {\n",
       "        vertical-align: top;\n",
       "    }\n",
       "\n",
       "    .dataframe thead th {\n",
       "        text-align: right;\n",
       "    }\n",
       "</style>\n",
       "<table border=\"1\" class=\"dataframe\">\n",
       "  <thead>\n",
       "    <tr style=\"text-align: right;\">\n",
       "      <th>Year</th>\n",
       "      <th>1990</th>\n",
       "      <th>2017</th>\n",
       "    </tr>\n",
       "    <tr>\n",
       "      <th>Country</th>\n",
       "      <th></th>\n",
       "      <th></th>\n",
       "    </tr>\n",
       "  </thead>\n",
       "  <tbody>\n",
       "    <tr>\n",
       "      <th>Albania</th>\n",
       "      <td>4842.734635</td>\n",
       "      <td>12811.759436</td>\n",
       "    </tr>\n",
       "    <tr>\n",
       "      <th>Algeria</th>\n",
       "      <td>8746.352901</td>\n",
       "      <td>11737.409353</td>\n",
       "    </tr>\n",
       "    <tr>\n",
       "      <th>Angola</th>\n",
       "      <td>5783.429064</td>\n",
       "      <td>7310.901738</td>\n",
       "    </tr>\n",
       "    <tr>\n",
       "      <th>Antigua and Barbuda</th>\n",
       "      <td>15459.551675</td>\n",
       "      <td>19840.076123</td>\n",
       "    </tr>\n",
       "    <tr>\n",
       "      <th>Arab World</th>\n",
       "      <td>9694.667544</td>\n",
       "      <td>14555.474921</td>\n",
       "    </tr>\n",
       "    <tr>\n",
       "      <th>...</th>\n",
       "      <td>...</td>\n",
       "      <td>...</td>\n",
       "    </tr>\n",
       "    <tr>\n",
       "      <th>Vanuatu</th>\n",
       "      <td>2888.309393</td>\n",
       "      <td>3116.645194</td>\n",
       "    </tr>\n",
       "    <tr>\n",
       "      <th>Vietnam</th>\n",
       "      <td>1673.249634</td>\n",
       "      <td>7155.745829</td>\n",
       "    </tr>\n",
       "    <tr>\n",
       "      <th>World</th>\n",
       "      <td>9680.269697</td>\n",
       "      <td>16253.385518</td>\n",
       "    </tr>\n",
       "    <tr>\n",
       "      <th>Zambia</th>\n",
       "      <td>2190.182814</td>\n",
       "      <td>3485.005238</td>\n",
       "    </tr>\n",
       "    <tr>\n",
       "      <th>Zimbabwe</th>\n",
       "      <td>3324.348171</td>\n",
       "      <td>3028.245976</td>\n",
       "    </tr>\n",
       "  </tbody>\n",
       "</table>\n",
       "<p>207 rows × 2 columns</p>\n",
       "</div>"
      ],
      "text/plain": [
       "Year                         1990          2017\n",
       "Country                                        \n",
       "Albania               4842.734635  12811.759436\n",
       "Algeria               8746.352901  11737.409353\n",
       "Angola                5783.429064   7310.901738\n",
       "Antigua and Barbuda  15459.551675  19840.076123\n",
       "Arab World            9694.667544  14555.474921\n",
       "...                           ...           ...\n",
       "Vanuatu               2888.309393   3116.645194\n",
       "Vietnam               1673.249634   7155.745829\n",
       "World                 9680.269697  16253.385518\n",
       "Zambia                2190.182814   3485.005238\n",
       "Zimbabwe              3324.348171   3028.245976\n",
       "\n",
       "[207 rows x 2 columns]"
      ]
     },
     "metadata": {},
     "output_type": "display_data"
    }
   ],
   "source": [
    "gdp_pivoted = gdp_df[gdp_df['Year'].isin([1990,2017])].pivot_table('GDP_Per_Capita', index = 'Country', columns = 'Year')\n",
    "gdp_pivoted = gdp_pivoted.dropna()\n",
    "display(gdp_pivoted)"
   ]
  },
  {
   "cell_type": "markdown",
   "id": "impressive-automation",
   "metadata": {
    "slideshow": {
     "slide_type": "-"
    }
   },
   "source": [
    "15. Create a new column in `gdp_pivoted` named `Percent_Change`. This column should contain the percent change in GDP_Per_Capita from 1990 to 2017. Hint: Percent change is calculated as 100*(New Value - Old Value) / Old Value."
   ]
  },
  {
   "cell_type": "code",
   "execution_count": 15,
   "id": "pursuant-activation",
   "metadata": {
    "slideshow": {
     "slide_type": "-"
    }
   },
   "outputs": [],
   "source": [
    "gdp_pivoted['Percent_Change'] = 100 * (gdp_pivoted.loc[:, 2017] - gdp_pivoted.loc[:, 1990]) / gdp_pivoted.loc[:, 1990]"
   ]
  },
  {
   "cell_type": "markdown",
   "id": "lyric-bishop",
   "metadata": {
    "slideshow": {
     "slide_type": "-"
    }
   },
   "source": [
    "16. How many countries experienced a negative percent change in GDP per capita from 1990 to 2017?"
   ]
  },
  {
   "cell_type": "code",
   "execution_count": 16,
   "id": "reflected-initial",
   "metadata": {
    "slideshow": {
     "slide_type": "-"
    }
   },
   "outputs": [
    {
     "data": {
      "text/plain": [
       "17"
      ]
     },
     "metadata": {},
     "output_type": "display_data"
    }
   ],
   "source": [
    "display(sum(gdp_pivoted['Percent_Change'] < 0))\n",
    "\n",
    "# 17 countries experienced a negative percent change in GDP per capita from 1990 to 2017."
   ]
  },
  {
   "cell_type": "markdown",
   "id": "otherwise-punishment",
   "metadata": {
    "slideshow": {
     "slide_type": "-"
    }
   },
   "source": [
    "17. Which country had the highest % change in GDP per capita? Create a line plot showing this country's GDP per capita for all years from 1990 to 2017. Create another showing the country with the second highest % change in GDP. How do the trends in these countries compare?  \n",
    "    **Bonus:** Put both line charts on the same plot."
   ]
  },
  {
   "cell_type": "code",
   "execution_count": 17,
   "id": "animal-secondary",
   "metadata": {
    "slideshow": {
     "slide_type": "-"
    }
   },
   "outputs": [
    {
     "data": {
      "text/html": [
       "<div>\n",
       "<style scoped>\n",
       "    .dataframe tbody tr th:only-of-type {\n",
       "        vertical-align: middle;\n",
       "    }\n",
       "\n",
       "    .dataframe tbody tr th {\n",
       "        vertical-align: top;\n",
       "    }\n",
       "\n",
       "    .dataframe thead th {\n",
       "        text-align: right;\n",
       "    }\n",
       "</style>\n",
       "<table border=\"1\" class=\"dataframe\">\n",
       "  <thead>\n",
       "    <tr style=\"text-align: right;\">\n",
       "      <th>Year</th>\n",
       "      <th>1990</th>\n",
       "      <th>2017</th>\n",
       "      <th>Percent_Change</th>\n",
       "    </tr>\n",
       "    <tr>\n",
       "      <th>Country</th>\n",
       "      <th></th>\n",
       "      <th></th>\n",
       "      <th></th>\n",
       "    </tr>\n",
       "  </thead>\n",
       "  <tbody>\n",
       "    <tr>\n",
       "      <th>Equatorial Guinea</th>\n",
       "      <td>1039.985049</td>\n",
       "      <td>22551.083246</td>\n",
       "      <td>2068.404561</td>\n",
       "    </tr>\n",
       "    <tr>\n",
       "      <th>China</th>\n",
       "      <td>1423.896348</td>\n",
       "      <td>14344.421239</td>\n",
       "      <td>907.406281</td>\n",
       "    </tr>\n",
       "  </tbody>\n",
       "</table>\n",
       "</div>"
      ],
      "text/plain": [
       "Year                      1990          2017  Percent_Change\n",
       "Country                                                     \n",
       "Equatorial Guinea  1039.985049  22551.083246     2068.404561\n",
       "China              1423.896348  14344.421239      907.406281"
      ]
     },
     "metadata": {},
     "output_type": "display_data"
    },
    {
     "data": {
      "image/png": "[encoded data removed]",
      "text/plain": [
       "<Figure size 432x288 with 1 Axes>"
      ]
     },
     "metadata": {
      "needs_background": "light"
     },
     "output_type": "display_data"
    }
   ],
   "source": [
    "display(gdp_pivoted.sort_values('Percent_Change', ascending = False).head(2))\n",
    "\n",
    "gdp_plot_data = gdp_df[gdp_df['Country'].isin(['Equatorial Guinea', 'China'])]\n",
    "sns.lineplot(data = gdp_plot_data, x = 'Year', y = 'GDP_Per_Capita', hue = 'Country')\n",
    "plt.ylabel('GDP per Capita (USD)');\n",
    "\n",
    "# Equatorial Guinea and China had the first and second highest percent change in GDP, respectively."
   ]
  },
  {
   "cell_type": "markdown",
   "id": "precious-house",
   "metadata": {
    "slideshow": {
     "slide_type": "-"
    }
   },
   "source": [
    "18. Read in continents.csv contained in the `data` folder into a new dataframe called `continents`. We will be using this dataframe to add a new column to our dataset.\n"
   ]
  },
  {
   "cell_type": "code",
   "execution_count": 18,
   "id": "previous-graph",
   "metadata": {
    "slideshow": {
     "slide_type": "-"
    }
   },
   "outputs": [],
   "source": [
    "continents = pd.read_csv('../data/continents.csv')"
   ]
  },
  {
   "cell_type": "markdown",
   "id": "brown-judge",
   "metadata": {
    "slideshow": {
     "slide_type": "-"
    }
   },
   "source": [
    "19. Merge gdp_df and continents. Keep only the countries that appear in both data frames. Save the result back to gdp_df."
   ]
  },
  {
   "cell_type": "code",
   "execution_count": 19,
   "id": "logical-helmet",
   "metadata": {
    "slideshow": {
     "slide_type": "-"
    }
   },
   "outputs": [
    {
     "data": {
      "text/plain": [
       "{'Sint Maarten (Dutch part)': 'Sint Maarten',\n",
       " 'SÃ£o TomÃ© and Principe': 'Sao Tome and Principe'}"
      ]
     },
     "metadata": {},
     "output_type": "display_data"
    }
   ],
   "source": [
    "continents_gdp_matches = match_countries(continents, gdp_df)\n",
    "display(continents_gdp_matches)"
   ]
  },
  {
   "cell_type": "code",
   "execution_count": 20,
   "id": "possible-threat",
   "metadata": {
    "slideshow": {
     "slide_type": "-"
    }
   },
   "outputs": [],
   "source": [
    "gdp_df = gdp_df.assign(temp = list(map(continents_gdp_matches.get, gdp_df['Country'])))\n",
    "gdp_df['Country'] = np.where(~gdp_df['temp'].isna(), gdp_df['temp'], gdp_df['Country'])\n",
    "gdp_df = gdp_df.drop(columns = 'temp')\n",
    "gdp_df = continents.merge(gdp_df, on = 'Country')"
   ]
  },
  {
   "cell_type": "markdown",
   "id": "legendary-sleeve",
   "metadata": {
    "slideshow": {
     "slide_type": "-"
    }
   },
   "source": [
    "20. Determine the number of countries per continent. Create a bar chart showing this."
   ]
  },
  {
   "cell_type": "code",
   "execution_count": 21,
   "id": "rubber-heating",
   "metadata": {
    "slideshow": {
     "slide_type": "-"
    }
   },
   "outputs": [
    {
     "data": {
      "image/png": "[encoded data removed]",
      "text/plain": [
       "<Figure size 432x288 with 1 Axes>"
      ]
     },
     "metadata": {
      "needs_background": "light"
     },
     "output_type": "display_data"
    }
   ],
   "source": [
    "countries_by_continent = gdp_df.groupby('Continent').agg({'Country' : pd.Series.nunique})\n",
    "sns.barplot(data = countries_by_continent, x = countries_by_continent.index, y = 'Country')\n",
    "plt.xticks(rotation = 45, ha = 'right', rotation_mode = 'anchor')\n",
    "plt.ylabel('Number of Countries');"
   ]
  },
  {
   "cell_type": "markdown",
   "id": "missing-wisdom",
   "metadata": {
    "slideshow": {
     "slide_type": "-"
    }
   },
   "source": [
    "21. Create a seaborn boxplot showing GDP per capita in 2014 split out by continent. What do you notice?"
   ]
  },
  {
   "cell_type": "code",
   "execution_count": 22,
   "id": "accepting-candle",
   "metadata": {
    "slideshow": {
     "slide_type": "-"
    }
   },
   "outputs": [
    {
     "data": {
      "image/png": "[encoded data removed]",
      "text/plain": [
       "<Figure size 432x288 with 1 Axes>"
      ]
     },
     "metadata": {
      "needs_background": "light"
     },
     "output_type": "display_data"
    }
   ],
   "source": [
    "sns.boxplot(data = gdp_df[gdp_df['Year'] == 2014], x = 'Continent', y = 'GDP_Per_Capita')\n",
    "plt.xticks(rotation = 45, ha = 'right', rotation_mode = 'anchor')\n",
    "plt.ylabel('GDP Per Capita (USD)');\n",
    "\n",
    "# Europe and Africa had the highest and lowest median GDP per capita in 2014, respectively. Three of the top four highest GDP per capitas were countries in Asia."
   ]
  },
  {
   "cell_type": "markdown",
   "id": "damaged-variable",
   "metadata": {
    "slideshow": {
     "slide_type": "-"
    }
   },
   "source": [
    "22. Read in internet_use.csv into a DataFrame called `internet_df`. You will most likely get an error message when doing this - figure out what is going wrong and fix it. Take a look at the first and last five rows and make any corrections to your `read_csv()` call to fix this. Again, **do not** modify the original datasets. "
   ]
  },
  {
   "cell_type": "code",
   "execution_count": 23,
   "id": "bright-duncan",
   "metadata": {
    "slideshow": {
     "slide_type": "-"
    }
   },
   "outputs": [],
   "source": [
    "internet_df = pd.read_csv('../data/internet_use.csv', nrows = 4495)"
   ]
  },
  {
   "cell_type": "markdown",
   "id": "alert-ceremony",
   "metadata": {
    "slideshow": {
     "slide_type": "-"
    }
   },
   "source": [
    "23. Drop the Value Footnotes column and then rename the columns to ‘Country’, ‘Year’, and ‘Internet_Users_Pct’."
   ]
  },
  {
   "cell_type": "code",
   "execution_count": 24,
   "id": "variable-transmission",
   "metadata": {
    "slideshow": {
     "slide_type": "-"
    }
   },
   "outputs": [],
   "source": [
    "internet_df = internet_df.drop(columns = 'Value Footnotes')\n",
    "internet_df.columns = ['Country', 'Year', 'Internet_Users_Pct']"
   ]
  },
  {
   "cell_type": "markdown",
   "id": "strong-mexican",
   "metadata": {
    "slideshow": {
     "slide_type": "-"
    }
   },
   "source": [
    "24. How many rows and columns does this new dataset have? What are the types of its columns? Ensure that the `Internet_Users_Pct` column is a numeric data type and fix it if it is not."
   ]
  },
  {
   "cell_type": "code",
   "execution_count": 25,
   "id": "classified-fruit",
   "metadata": {
    "slideshow": {
     "slide_type": "-"
    }
   },
   "outputs": [
    {
     "name": "stdout",
     "output_type": "stream",
     "text": [
      "<class 'pandas.core.frame.DataFrame'>\n",
      "RangeIndex: 4495 entries, 0 to 4494\n",
      "Data columns (total 3 columns):\n",
      " #   Column              Non-Null Count  Dtype  \n",
      "---  ------              --------------  -----  \n",
      " 0   Country             4495 non-null   object \n",
      " 1   Year                4495 non-null   int64  \n",
      " 2   Internet_Users_Pct  4495 non-null   float64\n",
      "dtypes: float64(1), int64(1), object(1)\n",
      "memory usage: 105.5+ KB\n"
     ]
    },
    {
     "data": {
      "text/plain": [
       "None"
      ]
     },
     "metadata": {},
     "output_type": "display_data"
    }
   ],
   "source": [
    "display(internet_df.info())\n",
    "\n",
    "# internet_df has 4495 rows and 3 columns."
   ]
  },
  {
   "cell_type": "markdown",
   "id": "mental-environment",
   "metadata": {
    "slideshow": {
     "slide_type": "-"
    }
   },
   "source": [
    "25. What is the first year that has a nonzero internet users percentage reported? What is the general trend in internet users percentage over the years. Pick a visualization that you think illustrates this trend well."
   ]
  },
  {
   "cell_type": "code",
   "execution_count": 26,
   "id": "outdoor-graduation",
   "metadata": {
    "slideshow": {
     "slide_type": "-"
    }
   },
   "outputs": [
    {
     "data": {
      "text/html": [
       "<div>\n",
       "<style scoped>\n",
       "    .dataframe tbody tr th:only-of-type {\n",
       "        vertical-align: middle;\n",
       "    }\n",
       "\n",
       "    .dataframe tbody tr th {\n",
       "        vertical-align: top;\n",
       "    }\n",
       "\n",
       "    .dataframe thead th {\n",
       "        text-align: right;\n",
       "    }\n",
       "</style>\n",
       "<table border=\"1\" class=\"dataframe\">\n",
       "  <thead>\n",
       "    <tr style=\"text-align: right;\">\n",
       "      <th></th>\n",
       "      <th>Country</th>\n",
       "      <th>Year</th>\n",
       "      <th>Internet_Users_Pct</th>\n",
       "    </tr>\n",
       "  </thead>\n",
       "  <tbody>\n",
       "    <tr>\n",
       "      <th>2048</th>\n",
       "      <td>Italy</td>\n",
       "      <td>1990</td>\n",
       "      <td>0.017545</td>\n",
       "    </tr>\n",
       "    <tr>\n",
       "      <th>1107</th>\n",
       "      <td>Denmark</td>\n",
       "      <td>1990</td>\n",
       "      <td>0.097277</td>\n",
       "    </tr>\n",
       "    <tr>\n",
       "      <th>375</th>\n",
       "      <td>Belgium</td>\n",
       "      <td>1990</td>\n",
       "      <td>0.001007</td>\n",
       "    </tr>\n",
       "    <tr>\n",
       "      <th>1388</th>\n",
       "      <td>Finland</td>\n",
       "      <td>1990</td>\n",
       "      <td>0.401088</td>\n",
       "    </tr>\n",
       "    <tr>\n",
       "      <th>4301</th>\n",
       "      <td>United States</td>\n",
       "      <td>1990</td>\n",
       "      <td>0.784729</td>\n",
       "    </tr>\n",
       "    <tr>\n",
       "      <th>...</th>\n",
       "      <td>...</td>\n",
       "      <td>...</td>\n",
       "      <td>...</td>\n",
       "    </tr>\n",
       "    <tr>\n",
       "      <th>2175</th>\n",
       "      <td>Kiribati</td>\n",
       "      <td>2014</td>\n",
       "      <td>12.250000</td>\n",
       "    </tr>\n",
       "    <tr>\n",
       "      <th>848</th>\n",
       "      <td>Colombia</td>\n",
       "      <td>2014</td>\n",
       "      <td>52.570000</td>\n",
       "    </tr>\n",
       "    <tr>\n",
       "      <th>1299</th>\n",
       "      <td>Ethiopia</td>\n",
       "      <td>2014</td>\n",
       "      <td>2.900000</td>\n",
       "    </tr>\n",
       "    <tr>\n",
       "      <th>623</th>\n",
       "      <td>Burundi</td>\n",
       "      <td>2014</td>\n",
       "      <td>1.380000</td>\n",
       "    </tr>\n",
       "    <tr>\n",
       "      <th>0</th>\n",
       "      <td>Afghanistan</td>\n",
       "      <td>2014</td>\n",
       "      <td>6.390000</td>\n",
       "    </tr>\n",
       "  </tbody>\n",
       "</table>\n",
       "<p>4106 rows × 3 columns</p>\n",
       "</div>"
      ],
      "text/plain": [
       "            Country  Year  Internet_Users_Pct\n",
       "2048          Italy  1990            0.017545\n",
       "1107        Denmark  1990            0.097277\n",
       "375         Belgium  1990            0.001007\n",
       "1388        Finland  1990            0.401088\n",
       "4301  United States  1990            0.784729\n",
       "...             ...   ...                 ...\n",
       "2175       Kiribati  2014           12.250000\n",
       "848        Colombia  2014           52.570000\n",
       "1299       Ethiopia  2014            2.900000\n",
       "623         Burundi  2014            1.380000\n",
       "0       Afghanistan  2014            6.390000\n",
       "\n",
       "[4106 rows x 3 columns]"
      ]
     },
     "metadata": {},
     "output_type": "display_data"
    },
    {
     "data": {
      "image/png": "[encoded data removed]",
      "text/plain": [
       "<Figure size 432x288 with 1 Axes>"
      ]
     },
     "metadata": {
      "needs_background": "light"
     },
     "output_type": "display_data"
    }
   ],
   "source": [
    "display(internet_df[internet_df['Internet_Users_Pct'] > 0].sort_values('Year'))\n",
    "sns.lineplot(data = internet_df[internet_df['Year'] >= 1990], x = 'Year', y = 'Internet_Users_Pct', ci = 'sd')\n",
    "plt.ylabel('Percentage of Internet Users Worldwide');\n",
    "\n",
    "# 1990 is the first year that has non-zero internet users percentage. The general trend in internet users percentage is an increase over time."
   ]
  },
  {
   "cell_type": "markdown",
   "id": "silver-charter",
   "metadata": {
    "slideshow": {
     "slide_type": "-"
    }
   },
   "source": [
    "26. Merge `gdp_df` and `internet_df` (on Country and Year) into a single DataFrame named `gdp_and_internet_use`. Keep only countries and years that appear in both tables.  \n",
    "    **Difficult Bonus:** Do not attempt this part until you have completed all other portions of the data question. Some countries have slightly different names in the internet use and gdp dataframes. For example, the Central African Republic is \"Central African Republic\" in the gdp dataframe and \"Central African Rep.\" in the internet use dataframe. Find as many instances like this as you can and resolve them so that when merging you keep the maximum number of countries possible."
   ]
  },
  {
   "cell_type": "code",
   "execution_count": 27,
   "id": "deadly-humanity",
   "metadata": {
    "slideshow": {
     "slide_type": "-"
    }
   },
   "outputs": [
    {
     "data": {
      "text/plain": [
       "{'Micronesia (Fed. States of)': 'Micronesia',\n",
       " 'Dominican Rep.': 'Dominican Republic',\n",
       " 'Bahamas': 'The Bahamas',\n",
       " 'Central African Rep.': 'Central African Republic',\n",
       " 'Lao P.D.R.': 'Lao PDR',\n",
       " 'Viet Nam': 'Vietnam',\n",
       " 'T.F.Y.R. Macedonia': 'North Macedonia',\n",
       " 'Congo (Democratic Republic of the)': 'Dem. Rep. Congo',\n",
       " 'Saint Kitts and Nevis': 'St. Kitts and Nevis',\n",
       " 'Hong Kong, China': 'Hong Kong SAR, China',\n",
       " 'Kyrgyzstan': 'Kyrgyz Republic',\n",
       " 'Brunei Darussalam': 'Brunei',\n",
       " 'Macao, China': 'Macao SAR, China',\n",
       " 'Saint Lucia': 'St. Lucia',\n",
       " 'Iran (Islamic Rep. of)': 'Iran',\n",
       " 'Cape Verde': 'Cabo Verde',\n",
       " 'Gambia': 'The Gambia'}"
      ]
     },
     "metadata": {},
     "output_type": "display_data"
    }
   ],
   "source": [
    "gdp_internet_matches = match_countries(gdp_df, internet_df)\n",
    "display(gdp_internet_matches)"
   ]
  },
  {
   "cell_type": "code",
   "execution_count": 28,
   "id": "detailed-dominant",
   "metadata": {
    "slideshow": {
     "slide_type": "-"
    }
   },
   "outputs": [],
   "source": [
    "internet_df = internet_df.assign(temp = list(map(gdp_internet_matches.get, internet_df['Country'])))\n",
    "internet_df['Country'] = np.where(~internet_df['temp'].isna(), internet_df['temp'], internet_df['Country'])\n",
    "internet_df = internet_df.drop(columns = 'temp')\n",
    "gdp_and_internet_use = gdp_df.merge(internet_df, on = ['Country', 'Year'])"
   ]
  },
  {
   "cell_type": "markdown",
   "id": "handy-medline",
   "metadata": {
    "slideshow": {
     "slide_type": "-"
    }
   },
   "source": [
    "27.\tLook at the first five rows of your new data frame to confirm it merged correctly. Also, check the last five rows to make sure the data is clean and as expected."
   ]
  },
  {
   "cell_type": "code",
   "execution_count": 29,
   "id": "liable-chaos",
   "metadata": {
    "slideshow": {
     "slide_type": "-"
    }
   },
   "outputs": [
    {
     "data": {
      "text/html": [
       "<div>\n",
       "<style scoped>\n",
       "    .dataframe tbody tr th:only-of-type {\n",
       "        vertical-align: middle;\n",
       "    }\n",
       "\n",
       "    .dataframe tbody tr th {\n",
       "        vertical-align: top;\n",
       "    }\n",
       "\n",
       "    .dataframe thead th {\n",
       "        text-align: right;\n",
       "    }\n",
       "</style>\n",
       "<table border=\"1\" class=\"dataframe\">\n",
       "  <thead>\n",
       "    <tr style=\"text-align: right;\">\n",
       "      <th></th>\n",
       "      <th>Continent</th>\n",
       "      <th>Country</th>\n",
       "      <th>Year</th>\n",
       "      <th>GDP_Per_Capita</th>\n",
       "      <th>Internet_Users_Pct</th>\n",
       "    </tr>\n",
       "  </thead>\n",
       "  <tbody>\n",
       "    <tr>\n",
       "      <th>0</th>\n",
       "      <td>Asia</td>\n",
       "      <td>Afghanistan</td>\n",
       "      <td>2014</td>\n",
       "      <td>2102.385234</td>\n",
       "      <td>6.390000</td>\n",
       "    </tr>\n",
       "    <tr>\n",
       "      <th>1</th>\n",
       "      <td>Asia</td>\n",
       "      <td>Afghanistan</td>\n",
       "      <td>2013</td>\n",
       "      <td>2116.465454</td>\n",
       "      <td>5.900000</td>\n",
       "    </tr>\n",
       "    <tr>\n",
       "      <th>2</th>\n",
       "      <td>Asia</td>\n",
       "      <td>Afghanistan</td>\n",
       "      <td>2012</td>\n",
       "      <td>2075.491747</td>\n",
       "      <td>5.454545</td>\n",
       "    </tr>\n",
       "    <tr>\n",
       "      <th>3</th>\n",
       "      <td>Asia</td>\n",
       "      <td>Afghanistan</td>\n",
       "      <td>2011</td>\n",
       "      <td>1904.559799</td>\n",
       "      <td>5.000000</td>\n",
       "    </tr>\n",
       "    <tr>\n",
       "      <th>4</th>\n",
       "      <td>Asia</td>\n",
       "      <td>Afghanistan</td>\n",
       "      <td>2010</td>\n",
       "      <td>1957.029338</td>\n",
       "      <td>4.000000</td>\n",
       "    </tr>\n",
       "  </tbody>\n",
       "</table>\n",
       "</div>"
      ],
      "text/plain": [
       "  Continent      Country  Year  GDP_Per_Capita  Internet_Users_Pct\n",
       "0      Asia  Afghanistan  2014     2102.385234            6.390000\n",
       "1      Asia  Afghanistan  2013     2116.465454            5.900000\n",
       "2      Asia  Afghanistan  2012     2075.491747            5.454545\n",
       "3      Asia  Afghanistan  2011     1904.559799            5.000000\n",
       "4      Asia  Afghanistan  2010     1957.029338            4.000000"
      ]
     },
     "metadata": {},
     "output_type": "display_data"
    },
    {
     "data": {
      "text/html": [
       "<div>\n",
       "<style scoped>\n",
       "    .dataframe tbody tr th:only-of-type {\n",
       "        vertical-align: middle;\n",
       "    }\n",
       "\n",
       "    .dataframe tbody tr th {\n",
       "        vertical-align: top;\n",
       "    }\n",
       "\n",
       "    .dataframe thead th {\n",
       "        text-align: right;\n",
       "    }\n",
       "</style>\n",
       "<table border=\"1\" class=\"dataframe\">\n",
       "  <thead>\n",
       "    <tr style=\"text-align: right;\">\n",
       "      <th></th>\n",
       "      <th>Continent</th>\n",
       "      <th>Country</th>\n",
       "      <th>Year</th>\n",
       "      <th>GDP_Per_Capita</th>\n",
       "      <th>Internet_Users_Pct</th>\n",
       "    </tr>\n",
       "  </thead>\n",
       "  <tbody>\n",
       "    <tr>\n",
       "      <th>3817</th>\n",
       "      <td>Africa</td>\n",
       "      <td>Zimbabwe</td>\n",
       "      <td>1997</td>\n",
       "      <td>3580.048793</td>\n",
       "      <td>0.033080</td>\n",
       "    </tr>\n",
       "    <tr>\n",
       "      <th>3818</th>\n",
       "      <td>Africa</td>\n",
       "      <td>Zimbabwe</td>\n",
       "      <td>1996</td>\n",
       "      <td>3520.430146</td>\n",
       "      <td>0.016790</td>\n",
       "    </tr>\n",
       "    <tr>\n",
       "      <th>3819</th>\n",
       "      <td>Africa</td>\n",
       "      <td>Zimbabwe</td>\n",
       "      <td>1995</td>\n",
       "      <td>3226.413930</td>\n",
       "      <td>0.007684</td>\n",
       "    </tr>\n",
       "    <tr>\n",
       "      <th>3820</th>\n",
       "      <td>Africa</td>\n",
       "      <td>Zimbabwe</td>\n",
       "      <td>1994</td>\n",
       "      <td>3263.934978</td>\n",
       "      <td>0.001739</td>\n",
       "    </tr>\n",
       "    <tr>\n",
       "      <th>3821</th>\n",
       "      <td>Africa</td>\n",
       "      <td>Zimbabwe</td>\n",
       "      <td>1990</td>\n",
       "      <td>3324.348171</td>\n",
       "      <td>0.000000</td>\n",
       "    </tr>\n",
       "  </tbody>\n",
       "</table>\n",
       "</div>"
      ],
      "text/plain": [
       "     Continent   Country  Year  GDP_Per_Capita  Internet_Users_Pct\n",
       "3817    Africa  Zimbabwe  1997     3580.048793            0.033080\n",
       "3818    Africa  Zimbabwe  1996     3520.430146            0.016790\n",
       "3819    Africa  Zimbabwe  1995     3226.413930            0.007684\n",
       "3820    Africa  Zimbabwe  1994     3263.934978            0.001739\n",
       "3821    Africa  Zimbabwe  1990     3324.348171            0.000000"
      ]
     },
     "metadata": {},
     "output_type": "display_data"
    }
   ],
   "source": [
    "display(gdp_and_internet_use.head())\n",
    "display(gdp_and_internet_use.tail())"
   ]
  },
  {
   "cell_type": "markdown",
   "id": "sweet-recognition",
   "metadata": {
    "slideshow": {
     "slide_type": "-"
    }
   },
   "source": [
    "28. Create a new DataFrame, named `gdp_and_internet_use_2014` by extracting data for the year 2014 from `gdp_and_internet_use`. How many countries have at least 90% internet users in 2014?"
   ]
  },
  {
   "cell_type": "code",
   "execution_count": 30,
   "id": "outstanding-pension",
   "metadata": {
    "slideshow": {
     "slide_type": "-"
    }
   },
   "outputs": [
    {
     "data": {
      "text/plain": [
       "13"
      ]
     },
     "metadata": {},
     "output_type": "display_data"
    }
   ],
   "source": [
    "gdp_and_internet_use_2014 = gdp_and_internet_use[gdp_and_internet_use['Year'] == 2014]\n",
    "display(sum(gdp_and_internet_use_2014['Internet_Users_Pct'] >= 90))\n",
    "\n",
    "# 13 countries have at leat 90% internet users in 2014."
   ]
  },
  {
   "cell_type": "markdown",
   "id": "african-performance",
   "metadata": {
    "slideshow": {
     "slide_type": "-"
    }
   },
   "source": [
    "29. Find the countries that had the top 3 largest GDP per capita figures for 2014. Create a seaborn FacetGrid showing the change in internet user percentage over time for these three countries. Each individual figure in the facet grid will represent a single country.  What trends do you notice?"
   ]
  },
  {
   "cell_type": "code",
   "execution_count": 31,
   "id": "improved-stamp",
   "metadata": {
    "slideshow": {
     "slide_type": "-"
    }
   },
   "outputs": [
    {
     "data": {
      "text/html": [
       "<div>\n",
       "<style scoped>\n",
       "    .dataframe tbody tr th:only-of-type {\n",
       "        vertical-align: middle;\n",
       "    }\n",
       "\n",
       "    .dataframe tbody tr th {\n",
       "        vertical-align: top;\n",
       "    }\n",
       "\n",
       "    .dataframe thead th {\n",
       "        text-align: right;\n",
       "    }\n",
       "</style>\n",
       "<table border=\"1\" class=\"dataframe\">\n",
       "  <thead>\n",
       "    <tr style=\"text-align: right;\">\n",
       "      <th></th>\n",
       "      <th>Continent</th>\n",
       "      <th>Country</th>\n",
       "      <th>Year</th>\n",
       "      <th>GDP_Per_Capita</th>\n",
       "      <th>Internet_Users_Pct</th>\n",
       "    </tr>\n",
       "  </thead>\n",
       "  <tbody>\n",
       "    <tr>\n",
       "      <th>2048</th>\n",
       "      <td>Asia</td>\n",
       "      <td>Macao SAR, China</td>\n",
       "      <td>2014</td>\n",
       "      <td>156514.133850</td>\n",
       "      <td>69.78</td>\n",
       "    </tr>\n",
       "    <tr>\n",
       "      <th>2024</th>\n",
       "      <td>Europe</td>\n",
       "      <td>Luxembourg</td>\n",
       "      <td>2014</td>\n",
       "      <td>108760.916030</td>\n",
       "      <td>94.67</td>\n",
       "    </tr>\n",
       "    <tr>\n",
       "      <th>2831</th>\n",
       "      <td>Asia</td>\n",
       "      <td>Qatar</td>\n",
       "      <td>2014</td>\n",
       "      <td>95578.416973</td>\n",
       "      <td>91.49</td>\n",
       "    </tr>\n",
       "  </tbody>\n",
       "</table>\n",
       "</div>"
      ],
      "text/plain": [
       "     Continent           Country  Year  GDP_Per_Capita  Internet_Users_Pct\n",
       "2048      Asia  Macao SAR, China  2014   156514.133850               69.78\n",
       "2024    Europe        Luxembourg  2014   108760.916030               94.67\n",
       "2831      Asia             Qatar  2014    95578.416973               91.49"
      ]
     },
     "metadata": {},
     "output_type": "display_data"
    },
    {
     "data": {
      "image/png": "[encoded data removed]",
      "text/plain": [
       "<Figure size 648x216 with 3 Axes>"
      ]
     },
     "metadata": {
      "needs_background": "light"
     },
     "output_type": "display_data"
    }
   ],
   "source": [
    "display(gdp_and_internet_use_2014.sort_values('GDP_Per_Capita', ascending = False).head(3))\n",
    "grid = sns.FacetGrid(data = gdp_and_internet_use[gdp_and_internet_use['Country'].isin(['Luxembourg', 'Qatar', 'Singapore'])], col = 'Country', hue = 'Country')\n",
    "grid.map_dataframe(sns.lineplot, x = 'Year', y = 'Internet_Users_Pct');"
   ]
  },
  {
   "cell_type": "markdown",
   "id": "unnecessary-tactics",
   "metadata": {
    "slideshow": {
     "slide_type": "-"
    }
   },
   "source": [
    "30. Create a scatter plot of Internet Use vs GDP per Capita for the year 2014. What do you notice?"
   ]
  },
  {
   "cell_type": "code",
   "execution_count": 32,
   "id": "positive-outline",
   "metadata": {
    "slideshow": {
     "slide_type": "-"
    }
   },
   "outputs": [
    {
     "data": {
      "image/png": "[encoded data removed]",
      "text/plain": [
       "<Figure size 432x288 with 1 Axes>"
      ]
     },
     "metadata": {
      "needs_background": "light"
     },
     "output_type": "display_data"
    }
   ],
   "source": [
    "sns.scatterplot(data = gdp_and_internet_use_2014, x = 'GDP_Per_Capita', y = 'Internet_Users_Pct');\n",
    "\n",
    "# The scatter plot shows a moderately strong positive correlation between GDP per capita and internet use."
   ]
  },
  {
   "cell_type": "markdown",
   "id": "bound-catholic",
   "metadata": {
    "slideshow": {
     "slide_type": "-"
    }
   },
   "source": [
    "31. Find the correlation between GDP per Capita and Internet Use for the year 2014. What is the meaning of this number?"
   ]
  },
  {
   "cell_type": "code",
   "execution_count": 33,
   "id": "reserved-induction",
   "metadata": {
    "slideshow": {
     "slide_type": "-"
    }
   },
   "outputs": [
    {
     "data": {
      "text/plain": [
       "array([[1.       , 0.7604376],\n",
       "       [0.7604376, 1.       ]])"
      ]
     },
     "metadata": {},
     "output_type": "display_data"
    }
   ],
   "source": [
    "display(np.corrcoef(gdp_and_internet_use_2014['GDP_Per_Capita'], gdp_and_internet_use_2014['Internet_Users_Pct']))\n",
    "\n",
    "# The correlation coefficient between GDP per capita and internet is R = 0.825, meaning a significant and positive relationship exists between the two variables."
   ]
  },
  {
   "cell_type": "markdown",
   "id": "fluid-square",
   "metadata": {
    "slideshow": {
     "slide_type": "-"
    }
   },
   "source": [
    "32. Add a column to `gdp_and_internet_use_2014` and calculate the logarithm of GDP per capita. Find the correlation between the log of GDP per capita and internet users percentage. How does this compare to the calculation in the previous part?"
   ]
  },
  {
   "cell_type": "code",
   "execution_count": 34,
   "id": "urban-boston",
   "metadata": {
    "slideshow": {
     "slide_type": "-"
    }
   },
   "outputs": [
    {
     "data": {
      "text/plain": [
       "array([[1.       , 0.8983196],\n",
       "       [0.8983196, 1.       ]])"
      ]
     },
     "metadata": {},
     "output_type": "display_data"
    }
   ],
   "source": [
    "gdp_and_internet_use_2014 = gdp_and_internet_use_2014.assign(Log_GDP_Per_Capita = lambda x: np.log(x['GDP_Per_Capita']))\n",
    "display(np.corrcoef(gdp_and_internet_use_2014['Log_GDP_Per_Capita'], gdp_and_internet_use_2014['Internet_Users_Pct']))\n",
    "\n",
    "# The correlation coefficient between the log of GDP per capita and internet use is R = 0.904, which is higher than before."
   ]
  },
  {
   "cell_type": "markdown",
   "id": "favorite-retreat",
   "metadata": {
    "slideshow": {
     "slide_type": "-"
    }
   },
   "source": [
    "33. Filter the original dataset down to just the United States for all available years. Calculate correlation between internet use and gdp per capita. Is this meaningful or useful?"
   ]
  },
  {
   "cell_type": "code",
   "execution_count": 35,
   "id": "directed-appliance",
   "metadata": {
    "slideshow": {
     "slide_type": "-"
    }
   },
   "outputs": [
    {
     "data": {
      "text/plain": [
       "array([[1.        , 0.99166007],\n",
       "       [0.99166007, 1.        ]])"
      ]
     },
     "metadata": {},
     "output_type": "display_data"
    }
   ],
   "source": [
    "united_states = gdp_and_internet_use[gdp_and_internet_use['Country'] == 'United States']\n",
    "display(np.corrcoef(united_states['GDP_Per_Capita'], united_states['Internet_Users_Pct']))\n",
    "\n",
    "# This correlation tells us the relationship between GDP per capita growth and internet use growth in the United States is linear over time."
   ]
  },
  {
   "cell_type": "markdown",
   "id": "blank-plasma",
   "metadata": {
    "slideshow": {
     "slide_type": "-"
    }
   },
   "source": [
    "### Solo Exploration and Presentation:\n",
    "1. Choose and download another data set from the UN data [http://data.un.org/Explorer.aspx](http://data.un.org/Explorer.aspx) to merge with your data and explore. Prepare a short (< 5 minute) presentation of your findings. Report any interesting correlations you find. Include visualizations and consider adding interactivity with `ipywidgets`. This presentation can be done either in a Jupyter Notebook or using another presentation software, such as PowerPoint. Check out [Jupyter Slides](https://medium.com/learning-machine-learning/present-your-data-science-projects-with-jupyter-slides-75f20735eb0f) if you have time. This allows you to turn your jupyter notebook into a slideshow.\n",
    "2.    If time allows, check out the plotly library to add additional interativity to your plots. [https://plotly.com/python/plotly-express/](https://plotly.com/python/plotly-express/).\n"
   ]
  },
  {
   "cell_type": "code",
   "execution_count": 36,
   "id": "confident-citation",
   "metadata": {
    "slideshow": {
     "slide_type": "-"
    }
   },
   "outputs": [],
   "source": [
    "tourism_df = pd.read_csv('../data/inbound_tourism.csv', na_values = '..')\n",
    "tourism_df = tourism_df.melt(id_vars = ['Country'], var_name = 'Year', value_name = 'Total_Arrivals')\n",
    "tourism_df['Country'] = tourism_df['Country'].str.title()\n",
    "tourism_df['Total_Arrivals'] = pd.to_numeric(tourism_df['Total_Arrivals'].str.replace(',', ''))\n",
    "tourism_df['Year'] = pd.to_numeric(tourism_df['Year'])"
   ]
  },
  {
   "cell_type": "code",
   "execution_count": 37,
   "id": "ranking-convertible",
   "metadata": {
    "slideshow": {
     "slide_type": "-"
    }
   },
   "outputs": [
    {
     "data": {
      "text/plain": [
       "{'Slovakia': 'Slovak Republic',\n",
       " 'Bahamas': 'The Bahamas',\n",
       " 'Sao Tome And Principe': 'Sao Tome and Principe',\n",
       " 'Russian Federation': 'Russia',\n",
       " 'Viet Nam': 'Vietnam',\n",
       " 'Moldova, Republic Of': 'Moldova',\n",
       " 'Bosnia And Herzegovina': 'Bosnia and Herzegovina',\n",
       " 'Congo, Democratic Republic Of The': 'Dem. Rep. Congo',\n",
       " 'Hong Kong, China': 'Hong Kong SAR, China',\n",
       " 'Trinidad And Tobago': 'Trinidad and Tobago',\n",
       " 'Kyrgyzstan': 'Kyrgyz Republic',\n",
       " 'Saint Vincent And The Grenadines': 'St. Vincent and the Grenadines',\n",
       " 'Brunei Darussalam': 'Brunei',\n",
       " 'Iran, Islamic Republic Of': 'Iran',\n",
       " 'Saint Kitts And Nevis': 'St. Kitts and Nevis',\n",
       " 'Lao People�S Democratic Republic': 'Lao PDR',\n",
       " 'Macao, China': 'Macao SAR, China',\n",
       " 'Saint Lucia': 'St. Lucia',\n",
       " 'Bolivia, Plurinational State Of': 'Bolivia',\n",
       " 'Antigua And Barbuda': 'Antigua and Barbuda',\n",
       " 'Gambia': 'The Gambia'}"
      ]
     },
     "metadata": {},
     "output_type": "display_data"
    }
   ],
   "source": [
    "gdp_internet_tourism_matches = match_countries(gdp_and_internet_use, tourism_df)\n",
    "display(gdp_internet_tourism_matches)"
   ]
  },
  {
   "cell_type": "code",
   "execution_count": 38,
   "id": "small-pantyhose",
   "metadata": {
    "slideshow": {
     "slide_type": "-"
    }
   },
   "outputs": [],
   "source": [
    "tourism_df = tourism_df.assign(temp = list(map(gdp_internet_tourism_matches.get, tourism_df['Country'])))\n",
    "tourism_df['Country'] = np.where(~tourism_df['temp'].isna(), tourism_df['temp'], tourism_df['Country'])\n",
    "tourism_df = tourism_df.drop(columns = 'temp')\n",
    "gdp_internet_tourism = gdp_and_internet_use.merge(tourism_df, on = ['Country', 'Year'])"
   ]
  },
  {
   "cell_type": "code",
   "execution_count": 88,
   "id": "suitable-minimum",
   "metadata": {
    "slideshow": {
     "slide_type": "-"
    }
   },
   "outputs": [],
   "source": [
    "gdp_internet_tourism_2014 = gdp_internet_tourism[gdp_internet_tourism['Year'] == 2014].dropna()\n",
    "africa_2014 = gdp_internet_tourism_2014[gdp_internet_tourism_2014['Continent'] == 'Africa']\n",
    "asia_2014 = gdp_internet_tourism_2014[gdp_internet_tourism_2014['Continent'] == 'Asia']\n",
    "europe_2014 = gdp_internet_tourism_2014[gdp_internet_tourism_2014['Continent'] == 'Europe']\n",
    "oceania_2014 = gdp_internet_tourism_2014[gdp_internet_tourism_2014['Continent'] == 'Oceania']\n",
    "north_america_2014 = gdp_internet_tourism_2014[gdp_internet_tourism_2014['Continent'] == 'North America']\n",
    "south_america_2014 = gdp_internet_tourism_2014[gdp_internet_tourism_2014['Continent'] == 'South America']"
   ]
  },
  {
   "cell_type": "code",
   "execution_count": 108,
   "id": "interior-option",
   "metadata": {
    "slideshow": {
     "slide_type": "-"
    }
   },
   "outputs": [
    {
     "data": {
      "text/plain": [
       "array([[1.        , 0.58257302],\n",
       "       [0.58257302, 1.        ]])"
      ]
     },
     "metadata": {},
     "output_type": "display_data"
    },
    {
     "data": {
      "text/plain": [
       "array([[1.        , 0.18578767],\n",
       "       [0.18578767, 1.        ]])"
      ]
     },
     "metadata": {},
     "output_type": "display_data"
    },
    {
     "data": {
      "image/png": "[encoded data removed]",
      "text/plain": [
       "<Figure size 432x288 with 1 Axes>"
      ]
     },
     "metadata": {
      "needs_background": "light"
     },
     "output_type": "display_data"
    }
   ],
   "source": [
    "sns.scatterplot(data = africa_2014, x = 'Internet_Users_Pct', y = 'Total_Arrivals');\n",
    "display(np.corrcoef(africa_2014['Internet_Users_Pct'], africa_2014['Total_Arrivals']))\n",
    "display(np.corrcoef(africa_2014['GDP_Per_Capita'], africa_2014['Total_Arrivals']))"
   ]
  },
  {
   "cell_type": "code",
   "execution_count": 94,
   "id": "crazy-adult",
   "metadata": {
    "slideshow": {
     "slide_type": "-"
    }
   },
   "outputs": [
    {
     "data": {
      "text/plain": [
       "array([[1.        , 0.12800881],\n",
       "       [0.12800881, 1.        ]])"
      ]
     },
     "metadata": {},
     "output_type": "display_data"
    },
    {
     "data": {
      "text/plain": [
       "array([[1.      , 0.099758],\n",
       "       [0.099758, 1.      ]])"
      ]
     },
     "metadata": {},
     "output_type": "display_data"
    },
    {
     "data": {
      "image/png": "[encoded data removed]",
      "text/plain": [
       "<Figure size 432x288 with 1 Axes>"
      ]
     },
     "metadata": {
      "needs_background": "light"
     },
     "output_type": "display_data"
    }
   ],
   "source": [
    "sns.scatterplot(data = asia_2014, x = 'Internet_Users_Pct', y = 'Total_Arrivals');\n",
    "display(np.corrcoef(asia_2014['Internet_Users_Pct'], asia_2014['Total_Arrivals']))\n",
    "display(np.corrcoef(asia_2014['GDP_Per_Capita'], asia_2014['Total_Arrivals']))"
   ]
  },
  {
   "cell_type": "code",
   "execution_count": 95,
   "id": "jewish-routine",
   "metadata": {
    "slideshow": {
     "slide_type": "-"
    }
   },
   "outputs": [
    {
     "data": {
      "text/plain": [
       "array([[1.        , 0.18856602],\n",
       "       [0.18856602, 1.        ]])"
      ]
     },
     "metadata": {},
     "output_type": "display_data"
    },
    {
     "data": {
      "text/plain": [
       "array([[1.       , 0.3295825],\n",
       "       [0.3295825, 1.       ]])"
      ]
     },
     "metadata": {},
     "output_type": "display_data"
    },
    {
     "data": {
      "image/png": "[encoded data removed]",
      "text/plain": [
       "<Figure size 432x288 with 1 Axes>"
      ]
     },
     "metadata": {
      "needs_background": "light"
     },
     "output_type": "display_data"
    }
   ],
   "source": [
    "sns.scatterplot(data = europe_2014, x = 'Internet_Users_Pct', y = 'Total_Arrivals');\n",
    "display(np.corrcoef(europe_2014['Internet_Users_Pct'], europe_2014['Total_Arrivals']))\n",
    "display(np.corrcoef(europe_2014['GDP_Per_Capita'], europe_2014['Total_Arrivals']))"
   ]
  },
  {
   "cell_type": "code",
   "execution_count": 97,
   "id": "fantastic-credits",
   "metadata": {
    "slideshow": {
     "slide_type": "-"
    }
   },
   "outputs": [
    {
     "data": {
      "text/plain": [
       "array([[1.        , 0.83612351],\n",
       "       [0.83612351, 1.        ]])"
      ]
     },
     "metadata": {},
     "output_type": "display_data"
    },
    {
     "data": {
      "text/plain": [
       "array([[1.        , 0.93010371],\n",
       "       [0.93010371, 1.        ]])"
      ]
     },
     "metadata": {},
     "output_type": "display_data"
    },
    {
     "data": {
      "image/png": "[encoded data removed]",
      "text/plain": [
       "<Figure size 432x288 with 1 Axes>"
      ]
     },
     "metadata": {
      "needs_background": "light"
     },
     "output_type": "display_data"
    }
   ],
   "source": [
    "sns.scatterplot(data = oceania_2014, x = 'Internet_Users_Pct', y = 'Total_Arrivals');\n",
    "display(np.corrcoef(oceania_2014['Internet_Users_Pct'], oceania_2014['Total_Arrivals']))\n",
    "display(np.corrcoef(oceania_2014['GDP_Per_Capita'], oceania_2014['Total_Arrivals']))"
   ]
  },
  {
   "cell_type": "code",
   "execution_count": 98,
   "id": "funny-small",
   "metadata": {
    "slideshow": {
     "slide_type": "-"
    }
   },
   "outputs": [
    {
     "data": {
      "text/plain": [
       "array([[1.        , 0.01244693],\n",
       "       [0.01244693, 1.        ]])"
      ]
     },
     "metadata": {},
     "output_type": "display_data"
    },
    {
     "data": {
      "text/plain": [
       "array([[1.        , 0.04986571],\n",
       "       [0.04986571, 1.        ]])"
      ]
     },
     "metadata": {},
     "output_type": "display_data"
    },
    {
     "data": {
      "image/png": "[encoded data removed]",
      "text/plain": [
       "<Figure size 432x288 with 1 Axes>"
      ]
     },
     "metadata": {
      "needs_background": "light"
     },
     "output_type": "display_data"
    }
   ],
   "source": [
    "sns.scatterplot(data = north_america_2014, x = 'Internet_Users_Pct', y = 'Total_Arrivals');\n",
    "display(np.corrcoef(north_america_2014['Internet_Users_Pct'], north_america_2014['Total_Arrivals']))\n",
    "display(np.corrcoef(north_america_2014['GDP_Per_Capita'], north_america_2014['Total_Arrivals']))"
   ]
  },
  {
   "cell_type": "code",
   "execution_count": 99,
   "id": "imported-standard",
   "metadata": {
    "slideshow": {
     "slide_type": "-"
    }
   },
   "outputs": [
    {
     "data": {
      "text/plain": [
       "array([[1.        , 0.55126402],\n",
       "       [0.55126402, 1.        ]])"
      ]
     },
     "metadata": {},
     "output_type": "display_data"
    },
    {
     "data": {
      "text/plain": [
       "array([[1.        , 0.16201522],\n",
       "       [0.16201522, 1.        ]])"
      ]
     },
     "metadata": {},
     "output_type": "display_data"
    },
    {
     "data": {
      "image/png": "[encoded data removed]",
      "text/plain": [
       "<Figure size 432x288 with 1 Axes>"
      ]
     },
     "metadata": {
      "needs_background": "light"
     },
     "output_type": "display_data"
    }
   ],
   "source": [
    "sns.scatterplot(data = south_america_2014, x = 'Internet_Users_Pct', y = 'Total_Arrivals');\n",
    "display(np.corrcoef(south_america_2014['Internet_Users_Pct'], south_america_2014['Total_Arrivals']))\n",
    "display(np.corrcoef(south_america_2014['GDP_Per_Capita'], south_america_2014['Total_Arrivals']))"
   ]
  },
  {
   "cell_type": "code",
   "execution_count": 106,
   "id": "complex-feeding",
   "metadata": {
    "slideshow": {
     "slide_type": "-"
    }
   },
   "outputs": [
    {
     "data": {
      "text/plain": [
       "array([[1.        , 0.27554311],\n",
       "       [0.27554311, 1.        ]])"
      ]
     },
     "metadata": {},
     "output_type": "display_data"
    },
    {
     "data": {
      "image/png": "[encoded data removed]",
      "text/plain": [
       "<Figure size 432x288 with 1 Axes>"
      ]
     },
     "metadata": {
      "needs_background": "light"
     },
     "output_type": "display_data"
    }
   ],
   "source": [
    "sns.scatterplot(data = gdp_internet_tourism_2014, x = 'Internet_Users_Pct', y = 'Total_Arrivals');\n",
    "display(np.corrcoef(gdp_internet_tourism_2014['Internet_Users_Pct'], gdp_internet_tourism_2014['Total_Arrivals']))"
   ]
  },
  {
   "cell_type": "code",
   "execution_count": 107,
   "id": "instrumental-yield",
   "metadata": {
    "scrolled": true,
    "slideshow": {
     "slide_type": "-"
    }
   },
   "outputs": [
    {
     "data": {
      "text/plain": [
       "array([[1.        , 0.22562748],\n",
       "       [0.22562748, 1.        ]])"
      ]
     },
     "metadata": {},
     "output_type": "display_data"
    },
    {
     "data": {
      "image/png": "[encoded data removed]",
      "text/plain": [
       "<Figure size 432x288 with 1 Axes>"
      ]
     },
     "metadata": {
      "needs_background": "light"
     },
     "output_type": "display_data"
    }
   ],
   "source": [
    "sns.scatterplot(data = gdp_internet_tourism_2014, x = 'GDP_Per_Capita', y = 'Total_Arrivals');\n",
    "display(np.corrcoef(gdp_internet_tourism_2014['GDP_Per_Capita'], gdp_internet_tourism_2014['Total_Arrivals']))"
   ]
  }
 ],
 "metadata": {
  "celltoolbar": "Slideshow",
  "kernelspec": {
   "display_name": "Python 3",
   "language": "python",
   "name": "python3"
  },
  "language_info": {
   "codemirror_mode": {
    "name": "ipython",
    "version": 3
   },
   "file_extension": ".py",
   "mimetype": "text/x-python",
   "name": "python",
   "nbconvert_exporter": "python",
   "pygments_lexer": "ipython3",
   "version": "3.8.10"
  }
 },
 "nbformat": 4,
 "nbformat_minor": 5
}
