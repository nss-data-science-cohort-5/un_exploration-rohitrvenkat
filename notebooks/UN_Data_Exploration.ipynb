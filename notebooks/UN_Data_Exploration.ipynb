{
 "cells": [
  {
   "cell_type": "code",
   "execution_count": 1,
   "id": "strategic-style",
   "metadata": {},
   "outputs": [],
   "source": [
    "import pandas as pd\n",
    "import numpy as np\n",
    "import matplotlib.pyplot as plt\n",
    "import seaborn as sns\n",
    "%matplotlib inline"
   ]
  },
  {
   "cell_type": "markdown",
   "id": "documentary-problem",
   "metadata": {},
   "source": [
    "5. Using the pandas `read_csv()` function, read the GDP dataset into your notebook as a DataFrame called `gdp_df`. \n",
    "    * Take a look at the first 10 rows. \n",
    "    * Look at the last 5 rows. Do you see a problem?\n",
    "    * Redo the `read_csv()` call to correct this issue - **do not** modify the original csv file."
   ]
  },
  {
   "cell_type": "code",
   "execution_count": 2,
   "id": "metric-happening",
   "metadata": {},
   "outputs": [
    {
     "data": {
      "text/html": [
       "<div>\n",
       "<style scoped>\n",
       "    .dataframe tbody tr th:only-of-type {\n",
       "        vertical-align: middle;\n",
       "    }\n",
       "\n",
       "    .dataframe tbody tr th {\n",
       "        vertical-align: top;\n",
       "    }\n",
       "\n",
       "    .dataframe thead th {\n",
       "        text-align: right;\n",
       "    }\n",
       "</style>\n",
       "<table border=\"1\" class=\"dataframe\">\n",
       "  <thead>\n",
       "    <tr style=\"text-align: right;\">\n",
       "      <th></th>\n",
       "      <th>Country or Area</th>\n",
       "      <th>Year</th>\n",
       "      <th>Value</th>\n",
       "      <th>Value Footnotes</th>\n",
       "    </tr>\n",
       "  </thead>\n",
       "  <tbody>\n",
       "    <tr>\n",
       "      <th>0</th>\n",
       "      <td>Afghanistan</td>\n",
       "      <td>2019</td>\n",
       "      <td>2065.036398</td>\n",
       "      <td>NaN</td>\n",
       "    </tr>\n",
       "    <tr>\n",
       "      <th>1</th>\n",
       "      <td>Afghanistan</td>\n",
       "      <td>2018</td>\n",
       "      <td>2033.779002</td>\n",
       "      <td>NaN</td>\n",
       "    </tr>\n",
       "    <tr>\n",
       "      <th>2</th>\n",
       "      <td>Afghanistan</td>\n",
       "      <td>2017</td>\n",
       "      <td>2058.383832</td>\n",
       "      <td>NaN</td>\n",
       "    </tr>\n",
       "    <tr>\n",
       "      <th>3</th>\n",
       "      <td>Afghanistan</td>\n",
       "      <td>2016</td>\n",
       "      <td>2057.062164</td>\n",
       "      <td>NaN</td>\n",
       "    </tr>\n",
       "    <tr>\n",
       "      <th>4</th>\n",
       "      <td>Afghanistan</td>\n",
       "      <td>2015</td>\n",
       "      <td>2068.265904</td>\n",
       "      <td>NaN</td>\n",
       "    </tr>\n",
       "    <tr>\n",
       "      <th>5</th>\n",
       "      <td>Afghanistan</td>\n",
       "      <td>2014</td>\n",
       "      <td>2102.385234</td>\n",
       "      <td>NaN</td>\n",
       "    </tr>\n",
       "    <tr>\n",
       "      <th>6</th>\n",
       "      <td>Afghanistan</td>\n",
       "      <td>2013</td>\n",
       "      <td>2116.465454</td>\n",
       "      <td>NaN</td>\n",
       "    </tr>\n",
       "    <tr>\n",
       "      <th>7</th>\n",
       "      <td>Afghanistan</td>\n",
       "      <td>2012</td>\n",
       "      <td>2075.491747</td>\n",
       "      <td>NaN</td>\n",
       "    </tr>\n",
       "    <tr>\n",
       "      <th>8</th>\n",
       "      <td>Afghanistan</td>\n",
       "      <td>2011</td>\n",
       "      <td>1904.559799</td>\n",
       "      <td>NaN</td>\n",
       "    </tr>\n",
       "    <tr>\n",
       "      <th>9</th>\n",
       "      <td>Afghanistan</td>\n",
       "      <td>2010</td>\n",
       "      <td>1957.029338</td>\n",
       "      <td>NaN</td>\n",
       "    </tr>\n",
       "  </tbody>\n",
       "</table>\n",
       "</div>"
      ],
      "text/plain": [
       "  Country or Area  Year        Value  Value Footnotes\n",
       "0     Afghanistan  2019  2065.036398              NaN\n",
       "1     Afghanistan  2018  2033.779002              NaN\n",
       "2     Afghanistan  2017  2058.383832              NaN\n",
       "3     Afghanistan  2016  2057.062164              NaN\n",
       "4     Afghanistan  2015  2068.265904              NaN\n",
       "5     Afghanistan  2014  2102.385234              NaN\n",
       "6     Afghanistan  2013  2116.465454              NaN\n",
       "7     Afghanistan  2012  2075.491747              NaN\n",
       "8     Afghanistan  2011  1904.559799              NaN\n",
       "9     Afghanistan  2010  1957.029338              NaN"
      ]
     },
     "metadata": {},
     "output_type": "display_data"
    },
    {
     "data": {
      "text/html": [
       "<div>\n",
       "<style scoped>\n",
       "    .dataframe tbody tr th:only-of-type {\n",
       "        vertical-align: middle;\n",
       "    }\n",
       "\n",
       "    .dataframe tbody tr th {\n",
       "        vertical-align: top;\n",
       "    }\n",
       "\n",
       "    .dataframe thead th {\n",
       "        text-align: right;\n",
       "    }\n",
       "</style>\n",
       "<table border=\"1\" class=\"dataframe\">\n",
       "  <thead>\n",
       "    <tr style=\"text-align: right;\">\n",
       "      <th></th>\n",
       "      <th>Country or Area</th>\n",
       "      <th>Year</th>\n",
       "      <th>Value</th>\n",
       "      <th>Value Footnotes</th>\n",
       "    </tr>\n",
       "  </thead>\n",
       "  <tbody>\n",
       "    <tr>\n",
       "      <th>6865</th>\n",
       "      <td>Zimbabwe</td>\n",
       "      <td>1992</td>\n",
       "      <td>3054.889178</td>\n",
       "      <td>NaN</td>\n",
       "    </tr>\n",
       "    <tr>\n",
       "      <th>6866</th>\n",
       "      <td>Zimbabwe</td>\n",
       "      <td>1991</td>\n",
       "      <td>3426.598094</td>\n",
       "      <td>NaN</td>\n",
       "    </tr>\n",
       "    <tr>\n",
       "      <th>6867</th>\n",
       "      <td>Zimbabwe</td>\n",
       "      <td>1990</td>\n",
       "      <td>3324.348171</td>\n",
       "      <td>NaN</td>\n",
       "    </tr>\n",
       "    <tr>\n",
       "      <th>6868</th>\n",
       "      <td>footnoteSeqID</td>\n",
       "      <td>Footnote</td>\n",
       "      <td>NaN</td>\n",
       "      <td>NaN</td>\n",
       "    </tr>\n",
       "    <tr>\n",
       "      <th>6869</th>\n",
       "      <td>2</td>\n",
       "      <td>Excludes South Sudan after July 9, 2011.</td>\n",
       "      <td>NaN</td>\n",
       "      <td>NaN</td>\n",
       "    </tr>\n",
       "  </tbody>\n",
       "</table>\n",
       "</div>"
      ],
      "text/plain": [
       "     Country or Area                                      Year        Value  \\\n",
       "6865        Zimbabwe                                      1992  3054.889178   \n",
       "6866        Zimbabwe                                      1991  3426.598094   \n",
       "6867        Zimbabwe                                      1990  3324.348171   \n",
       "6868   footnoteSeqID                                  Footnote          NaN   \n",
       "6869               2  Excludes South Sudan after July 9, 2011.          NaN   \n",
       "\n",
       "      Value Footnotes  \n",
       "6865              NaN  \n",
       "6866              NaN  \n",
       "6867              NaN  \n",
       "6868              NaN  \n",
       "6869              NaN  "
      ]
     },
     "metadata": {},
     "output_type": "display_data"
    }
   ],
   "source": [
    "gdp_df = pd.read_csv('../data/gdp_per_capita.csv')\n",
    "display(gdp_df.head(10))\n",
    "display(gdp_df.tail())"
   ]
  },
  {
   "cell_type": "code",
   "execution_count": 3,
   "id": "personalized-fence",
   "metadata": {},
   "outputs": [],
   "source": [
    "gdp_df = pd.read_csv('../data/gdp_per_capita.csv', nrows = 6868)"
   ]
  },
  {
   "cell_type": "markdown",
   "id": "composed-transcript",
   "metadata": {},
   "source": [
    "6. Drop the 'Value Footnotes' column, and rename the remaining columns to ‘Country’, ‘Year’, and ‘GDP_Per_Capita’."
   ]
  },
  {
   "cell_type": "code",
   "execution_count": 4,
   "id": "rolled-peninsula",
   "metadata": {},
   "outputs": [],
   "source": [
    "gdp_df = gdp_df.drop(columns = 'Value Footnotes')\n",
    "gdp_df.columns = ['Country', 'Year', 'GDP_Per_Capita']"
   ]
  },
  {
   "cell_type": "markdown",
   "id": "bored-relay",
   "metadata": {},
   "source": [
    "7. How many rows and columns does `gdp_df` have? What are the data types of its columns? If any of the columns are not the expected types, figure out why and fix it."
   ]
  },
  {
   "cell_type": "code",
   "execution_count": 5,
   "id": "middle-avenue",
   "metadata": {},
   "outputs": [
    {
     "name": "stdout",
     "output_type": "stream",
     "text": [
      "<class 'pandas.core.frame.DataFrame'>\n",
      "RangeIndex: 6868 entries, 0 to 6867\n",
      "Data columns (total 3 columns):\n",
      " #   Column          Non-Null Count  Dtype  \n",
      "---  ------          --------------  -----  \n",
      " 0   Country         6868 non-null   object \n",
      " 1   Year            6868 non-null   int64  \n",
      " 2   GDP_Per_Capita  6868 non-null   float64\n",
      "dtypes: float64(1), int64(1), object(1)\n",
      "memory usage: 161.1+ KB\n"
     ]
    },
    {
     "data": {
      "text/plain": [
       "None"
      ]
     },
     "metadata": {},
     "output_type": "display_data"
    }
   ],
   "source": [
    "display(gdp_df.info())\n",
    "\n",
    "# gdp_df has 6868 rows and 3 columns."
   ]
  },
  {
   "cell_type": "markdown",
   "id": "opponent-avenue",
   "metadata": {},
   "source": [
    "8. Which years are represented in this dataset? Take a look at the number of observations per year. What do you notice?"
   ]
  },
  {
   "cell_type": "code",
   "execution_count": 6,
   "id": "temporal-demographic",
   "metadata": {},
   "outputs": [
    {
     "data": {
      "text/plain": [
       "2013    238\n",
       "2014    238\n",
       "2016    238\n",
       "2015    238\n",
       "2017    238\n",
       "2012    237\n",
       "2018    237\n",
       "2011    237\n",
       "2009    236\n",
       "2010    236\n",
       "2007    235\n",
       "2008    235\n",
       "2006    235\n",
       "2004    234\n",
       "2005    234\n",
       "2002    233\n",
       "2003    233\n",
       "2001    232\n",
       "2019    231\n",
       "2000    231\n",
       "1999    224\n",
       "1998    223\n",
       "1997    223\n",
       "1996    221\n",
       "1995    221\n",
       "1994    214\n",
       "1993    212\n",
       "1992    209\n",
       "1991    208\n",
       "1990    207\n",
       "Name: Year, dtype: int64"
      ]
     },
     "metadata": {},
     "output_type": "display_data"
    }
   ],
   "source": [
    "display(gdp_df['Year'].value_counts())\n",
    "\n",
    "# There are less observations for earlier years compared to more recent years."
   ]
  },
  {
   "cell_type": "markdown",
   "id": "convertible-lawsuit",
   "metadata": {},
   "source": [
    "9. How many countries are represented in this dataset? Which countries are least represented in the dataset? Why do you think these countries have so few observations?"
   ]
  },
  {
   "cell_type": "code",
   "execution_count": 7,
   "id": "labeled-helicopter",
   "metadata": {},
   "outputs": [
    {
     "data": {
      "text/plain": [
       "Zimbabwe                     30\n",
       "Kyrgyz Republic              30\n",
       "Bulgaria                     30\n",
       "Germany                      30\n",
       "Brunei                       30\n",
       "                             ..\n",
       "Nauru                        16\n",
       "Cayman Islands               13\n",
       "Sint Maarten (Dutch part)    10\n",
       "Turks and Caicos Islands      9\n",
       "Djibouti                      7\n",
       "Name: Country, Length: 238, dtype: int64"
      ]
     },
     "metadata": {},
     "output_type": "display_data"
    }
   ],
   "source": [
    "display(gdp_df['Country'].value_counts())\n",
    "\n",
    "# There are 238 entries in this dataset, the vast majority of which are countries. Djibouti (7), Turks and Caicos Islands (9), and Sint Maarten (10) have the least observations in the dataset, likely because these countries lack reliable data collection."
   ]
  },
  {
   "cell_type": "markdown",
   "id": "limiting-hamilton",
   "metadata": {},
   "source": [
    "10. Create a new dataframe by subsetting `gdp_df` to just the year 2014. Call this new dataframe `gdp_2014`."
   ]
  },
  {
   "cell_type": "code",
   "execution_count": 8,
   "id": "applied-revision",
   "metadata": {},
   "outputs": [],
   "source": [
    "gdp_2014 = gdp_df[gdp_df['Year'] == 2014]"
   ]
  },
  {
   "cell_type": "markdown",
   "id": "grateful-hospital",
   "metadata": {},
   "source": [
    "11. Use `.describe()` to find the summary statistics for GDP per capita in 2014. "
   ]
  },
  {
   "cell_type": "code",
   "execution_count": 9,
   "id": "tired-coupon",
   "metadata": {},
   "outputs": [
    {
     "data": {
      "text/html": [
       "<div>\n",
       "<style scoped>\n",
       "    .dataframe tbody tr th:only-of-type {\n",
       "        vertical-align: middle;\n",
       "    }\n",
       "\n",
       "    .dataframe tbody tr th {\n",
       "        vertical-align: top;\n",
       "    }\n",
       "\n",
       "    .dataframe thead th {\n",
       "        text-align: right;\n",
       "    }\n",
       "</style>\n",
       "<table border=\"1\" class=\"dataframe\">\n",
       "  <thead>\n",
       "    <tr style=\"text-align: right;\">\n",
       "      <th></th>\n",
       "      <th>Year</th>\n",
       "      <th>GDP_Per_Capita</th>\n",
       "    </tr>\n",
       "  </thead>\n",
       "  <tbody>\n",
       "    <tr>\n",
       "      <th>count</th>\n",
       "      <td>238.0</td>\n",
       "      <td>238.000000</td>\n",
       "    </tr>\n",
       "    <tr>\n",
       "      <th>mean</th>\n",
       "      <td>2014.0</td>\n",
       "      <td>19766.710348</td>\n",
       "    </tr>\n",
       "    <tr>\n",
       "      <th>std</th>\n",
       "      <td>0.0</td>\n",
       "      <td>20983.869623</td>\n",
       "    </tr>\n",
       "    <tr>\n",
       "      <th>min</th>\n",
       "      <td>2014.0</td>\n",
       "      <td>822.610458</td>\n",
       "    </tr>\n",
       "    <tr>\n",
       "      <th>25%</th>\n",
       "      <td>2014.0</td>\n",
       "      <td>4753.110934</td>\n",
       "    </tr>\n",
       "    <tr>\n",
       "      <th>50%</th>\n",
       "      <td>2014.0</td>\n",
       "      <td>12209.385755</td>\n",
       "    </tr>\n",
       "    <tr>\n",
       "      <th>75%</th>\n",
       "      <td>2014.0</td>\n",
       "      <td>26803.610474</td>\n",
       "    </tr>\n",
       "    <tr>\n",
       "      <th>max</th>\n",
       "      <td>2014.0</td>\n",
       "      <td>156514.133850</td>\n",
       "    </tr>\n",
       "  </tbody>\n",
       "</table>\n",
       "</div>"
      ],
      "text/plain": [
       "         Year  GDP_Per_Capita\n",
       "count   238.0      238.000000\n",
       "mean   2014.0    19766.710348\n",
       "std       0.0    20983.869623\n",
       "min    2014.0      822.610458\n",
       "25%    2014.0     4753.110934\n",
       "50%    2014.0    12209.385755\n",
       "75%    2014.0    26803.610474\n",
       "max    2014.0   156514.133850"
      ]
     },
     "metadata": {},
     "output_type": "display_data"
    }
   ],
   "source": [
    "display(gdp_2014.describe())"
   ]
  },
  {
   "cell_type": "markdown",
   "id": "tribal-edgar",
   "metadata": {},
   "source": [
    "12. Create a histogram of GDP Per Capita numbers for 2014 (you may wish to adjust the number of bins for your histogram). How would you describe the shape of the distribution?"
   ]
  },
  {
   "cell_type": "code",
   "execution_count": 10,
   "id": "speaking-surge",
   "metadata": {},
   "outputs": [
    {
     "data": {
      "image/png": "[encoded data removed]",
      "text/plain": [
       "<Figure size 432x288 with 1 Axes>"
      ]
     },
     "metadata": {
      "needs_background": "light"
     },
     "output_type": "display_data"
    }
   ],
   "source": [
    "sns.histplot(gdp_2014['GDP_Per_Capita']);\n",
    "\n",
    "# The distribution is right-skewed unimodal."
   ]
  },
  {
   "cell_type": "markdown",
   "id": "ignored-footwear",
   "metadata": {},
   "source": [
    "13. Find the top 5 counties and bottom 5 countries by GDP per capita in 2014."
   ]
  },
  {
   "cell_type": "code",
   "execution_count": 11,
   "id": "direct-objective",
   "metadata": {},
   "outputs": [
    {
     "data": {
      "text/html": [
       "<div>\n",
       "<style scoped>\n",
       "    .dataframe tbody tr th:only-of-type {\n",
       "        vertical-align: middle;\n",
       "    }\n",
       "\n",
       "    .dataframe tbody tr th {\n",
       "        vertical-align: top;\n",
       "    }\n",
       "\n",
       "    .dataframe thead th {\n",
       "        text-align: right;\n",
       "    }\n",
       "</style>\n",
       "<table border=\"1\" class=\"dataframe\">\n",
       "  <thead>\n",
       "    <tr style=\"text-align: right;\">\n",
       "      <th></th>\n",
       "      <th>Country</th>\n",
       "      <th>Year</th>\n",
       "      <th>GDP_Per_Capita</th>\n",
       "    </tr>\n",
       "  </thead>\n",
       "  <tbody>\n",
       "    <tr>\n",
       "      <th>3721</th>\n",
       "      <td>Macao SAR, China</td>\n",
       "      <td>2014</td>\n",
       "      <td>156514.133850</td>\n",
       "    </tr>\n",
       "    <tr>\n",
       "      <th>3691</th>\n",
       "      <td>Luxembourg</td>\n",
       "      <td>2014</td>\n",
       "      <td>108760.916030</td>\n",
       "    </tr>\n",
       "    <tr>\n",
       "      <th>5138</th>\n",
       "      <td>Qatar</td>\n",
       "      <td>2014</td>\n",
       "      <td>95578.416973</td>\n",
       "    </tr>\n",
       "    <tr>\n",
       "      <th>5464</th>\n",
       "      <td>Singapore</td>\n",
       "      <td>2014</td>\n",
       "      <td>87808.663157</td>\n",
       "    </tr>\n",
       "    <tr>\n",
       "      <th>561</th>\n",
       "      <td>Bermuda</td>\n",
       "      <td>2014</td>\n",
       "      <td>77361.104881</td>\n",
       "    </tr>\n",
       "  </tbody>\n",
       "</table>\n",
       "</div>"
      ],
      "text/plain": [
       "               Country  Year  GDP_Per_Capita\n",
       "3721  Macao SAR, China  2014   156514.133850\n",
       "3691        Luxembourg  2014   108760.916030\n",
       "5138             Qatar  2014    95578.416973\n",
       "5464         Singapore  2014    87808.663157\n",
       "561            Bermuda  2014    77361.104881"
      ]
     },
     "metadata": {},
     "output_type": "display_data"
    },
    {
     "data": {
      "text/html": [
       "<div>\n",
       "<style scoped>\n",
       "    .dataframe tbody tr th:only-of-type {\n",
       "        vertical-align: middle;\n",
       "    }\n",
       "\n",
       "    .dataframe tbody tr th {\n",
       "        vertical-align: top;\n",
       "    }\n",
       "\n",
       "    .dataframe thead th {\n",
       "        text-align: right;\n",
       "    }\n",
       "</style>\n",
       "<table border=\"1\" class=\"dataframe\">\n",
       "  <thead>\n",
       "    <tr style=\"text-align: right;\">\n",
       "      <th></th>\n",
       "      <th>Country</th>\n",
       "      <th>Year</th>\n",
       "      <th>GDP_Per_Capita</th>\n",
       "    </tr>\n",
       "  </thead>\n",
       "  <tbody>\n",
       "    <tr>\n",
       "      <th>1047</th>\n",
       "      <td>Central African Republic</td>\n",
       "      <td>2014</td>\n",
       "      <td>822.610458</td>\n",
       "    </tr>\n",
       "    <tr>\n",
       "      <th>827</th>\n",
       "      <td>Burundi</td>\n",
       "      <td>2014</td>\n",
       "      <td>886.235777</td>\n",
       "    </tr>\n",
       "    <tr>\n",
       "      <th>3781</th>\n",
       "      <td>Malawi</td>\n",
       "      <td>2014</td>\n",
       "      <td>1027.208496</td>\n",
       "    </tr>\n",
       "    <tr>\n",
       "      <th>1422</th>\n",
       "      <td>Dem. Rep. Congo</td>\n",
       "      <td>2014</td>\n",
       "      <td>1029.790785</td>\n",
       "    </tr>\n",
       "    <tr>\n",
       "      <th>4528</th>\n",
       "      <td>Niger</td>\n",
       "      <td>2014</td>\n",
       "      <td>1127.615541</td>\n",
       "    </tr>\n",
       "  </tbody>\n",
       "</table>\n",
       "</div>"
      ],
      "text/plain": [
       "                       Country  Year  GDP_Per_Capita\n",
       "1047  Central African Republic  2014      822.610458\n",
       "827                    Burundi  2014      886.235777\n",
       "3781                    Malawi  2014     1027.208496\n",
       "1422           Dem. Rep. Congo  2014     1029.790785\n",
       "4528                     Niger  2014     1127.615541"
      ]
     },
     "metadata": {},
     "output_type": "display_data"
    }
   ],
   "source": [
    "display(gdp_2014.sort_values('GDP_Per_Capita', ascending = False).head())\n",
    "display(gdp_2014.sort_values('GDP_Per_Capita', ascending = True).head())"
   ]
  },
  {
   "cell_type": "markdown",
   "id": "interpreted-upper",
   "metadata": {},
   "source": [
    "14. Now, return to the full dataset, `gdp_df`. Pivot the data for 1990 and 2017 (using the pandas `.pivot_table()` method or another method) so that each row corresponds to a country, each column corresponds to a year, and the values in the table give the GDP_Per_Capita amount. Drop any rows that are missing values for either 1990 or 2017. Save the result to a dataframe named `gdp_pivoted`."
   ]
  },
  {
   "cell_type": "code",
   "execution_count": 12,
   "id": "ancient-absence",
   "metadata": {},
   "outputs": [
    {
     "data": {
      "text/html": [
       "<div>\n",
       "<style scoped>\n",
       "    .dataframe tbody tr th:only-of-type {\n",
       "        vertical-align: middle;\n",
       "    }\n",
       "\n",
       "    .dataframe tbody tr th {\n",
       "        vertical-align: top;\n",
       "    }\n",
       "\n",
       "    .dataframe thead th {\n",
       "        text-align: right;\n",
       "    }\n",
       "</style>\n",
       "<table border=\"1\" class=\"dataframe\">\n",
       "  <thead>\n",
       "    <tr style=\"text-align: right;\">\n",
       "      <th>Year</th>\n",
       "      <th>1990</th>\n",
       "      <th>1991</th>\n",
       "      <th>1992</th>\n",
       "      <th>1993</th>\n",
       "      <th>1994</th>\n",
       "      <th>1995</th>\n",
       "      <th>1996</th>\n",
       "      <th>1997</th>\n",
       "      <th>1998</th>\n",
       "      <th>1999</th>\n",
       "      <th>...</th>\n",
       "      <th>2010</th>\n",
       "      <th>2011</th>\n",
       "      <th>2012</th>\n",
       "      <th>2013</th>\n",
       "      <th>2014</th>\n",
       "      <th>2015</th>\n",
       "      <th>2016</th>\n",
       "      <th>2017</th>\n",
       "      <th>2018</th>\n",
       "      <th>2019</th>\n",
       "    </tr>\n",
       "    <tr>\n",
       "      <th>Country</th>\n",
       "      <th></th>\n",
       "      <th></th>\n",
       "      <th></th>\n",
       "      <th></th>\n",
       "      <th></th>\n",
       "      <th></th>\n",
       "      <th></th>\n",
       "      <th></th>\n",
       "      <th></th>\n",
       "      <th></th>\n",
       "      <th></th>\n",
       "      <th></th>\n",
       "      <th></th>\n",
       "      <th></th>\n",
       "      <th></th>\n",
       "      <th></th>\n",
       "      <th></th>\n",
       "      <th></th>\n",
       "      <th></th>\n",
       "      <th></th>\n",
       "      <th></th>\n",
       "    </tr>\n",
       "  </thead>\n",
       "  <tbody>\n",
       "    <tr>\n",
       "      <th>Albania</th>\n",
       "      <td>4842.734635</td>\n",
       "      <td>3507.746654</td>\n",
       "      <td>3275.444336</td>\n",
       "      <td>3610.520633</td>\n",
       "      <td>3934.375728</td>\n",
       "      <td>4486.152092</td>\n",
       "      <td>4924.905836</td>\n",
       "      <td>4414.631173</td>\n",
       "      <td>4834.778357</td>\n",
       "      <td>5492.654212</td>\n",
       "      <td>...</td>\n",
       "      <td>10783.816180</td>\n",
       "      <td>11088.087801</td>\n",
       "      <td>11263.851342</td>\n",
       "      <td>11397.576226</td>\n",
       "      <td>11623.866679</td>\n",
       "      <td>11916.422315</td>\n",
       "      <td>12331.127754</td>\n",
       "      <td>12811.759436</td>\n",
       "      <td>13366.303065</td>\n",
       "      <td>13724.058790</td>\n",
       "    </tr>\n",
       "    <tr>\n",
       "      <th>Algeria</th>\n",
       "      <td>8746.352901</td>\n",
       "      <td>8431.385028</td>\n",
       "      <td>8383.770248</td>\n",
       "      <td>8027.376688</td>\n",
       "      <td>7792.085182</td>\n",
       "      <td>7935.179841</td>\n",
       "      <td>8116.962721</td>\n",
       "      <td>8074.759953</td>\n",
       "      <td>8360.150339</td>\n",
       "      <td>8506.345679</td>\n",
       "      <td>...</td>\n",
       "      <td>10970.705149</td>\n",
       "      <td>11078.240516</td>\n",
       "      <td>11233.534926</td>\n",
       "      <td>11319.097949</td>\n",
       "      <td>11512.705405</td>\n",
       "      <td>11696.963757</td>\n",
       "      <td>11826.164666</td>\n",
       "      <td>11737.409353</td>\n",
       "      <td>11642.194485</td>\n",
       "      <td>11510.557088</td>\n",
       "    </tr>\n",
       "    <tr>\n",
       "      <th>Angola</th>\n",
       "      <td>5783.429064</td>\n",
       "      <td>5649.782130</td>\n",
       "      <td>5148.252824</td>\n",
       "      <td>3788.508107</td>\n",
       "      <td>3717.366881</td>\n",
       "      <td>4139.640473</td>\n",
       "      <td>4551.651329</td>\n",
       "      <td>4728.157560</td>\n",
       "      <td>4792.683851</td>\n",
       "      <td>4740.669833</td>\n",
       "      <td>...</td>\n",
       "      <td>7692.434616</td>\n",
       "      <td>7675.445768</td>\n",
       "      <td>8036.690482</td>\n",
       "      <td>8140.527851</td>\n",
       "      <td>8239.828837</td>\n",
       "      <td>8036.410610</td>\n",
       "      <td>7568.997643</td>\n",
       "      <td>7310.901738</td>\n",
       "      <td>6933.505560</td>\n",
       "      <td>6670.332297</td>\n",
       "    </tr>\n",
       "    <tr>\n",
       "      <th>Antigua and Barbuda</th>\n",
       "      <td>15459.551675</td>\n",
       "      <td>15586.896172</td>\n",
       "      <td>15497.464744</td>\n",
       "      <td>15991.764201</td>\n",
       "      <td>16697.248772</td>\n",
       "      <td>15628.396992</td>\n",
       "      <td>16303.723892</td>\n",
       "      <td>16828.640823</td>\n",
       "      <td>17258.964856</td>\n",
       "      <td>17551.305968</td>\n",
       "      <td>...</td>\n",
       "      <td>18205.985369</td>\n",
       "      <td>17604.417102</td>\n",
       "      <td>17965.502327</td>\n",
       "      <td>17641.542533</td>\n",
       "      <td>18104.241470</td>\n",
       "      <td>18595.084904</td>\n",
       "      <td>19417.964819</td>\n",
       "      <td>19840.076123</td>\n",
       "      <td>21115.798269</td>\n",
       "      <td>21910.184985</td>\n",
       "    </tr>\n",
       "    <tr>\n",
       "      <th>Arab World</th>\n",
       "      <td>9694.667544</td>\n",
       "      <td>9651.626577</td>\n",
       "      <td>9933.531454</td>\n",
       "      <td>9927.649928</td>\n",
       "      <td>9957.387061</td>\n",
       "      <td>9913.934988</td>\n",
       "      <td>10136.058519</td>\n",
       "      <td>10311.064917</td>\n",
       "      <td>10624.718674</td>\n",
       "      <td>10606.027497</td>\n",
       "      <td>...</td>\n",
       "      <td>13347.112066</td>\n",
       "      <td>13531.438796</td>\n",
       "      <td>14032.961703</td>\n",
       "      <td>14155.876986</td>\n",
       "      <td>14219.562395</td>\n",
       "      <td>14441.436785</td>\n",
       "      <td>14663.549625</td>\n",
       "      <td>14555.474921</td>\n",
       "      <td>14622.065826</td>\n",
       "      <td>14602.938214</td>\n",
       "    </tr>\n",
       "    <tr>\n",
       "      <th>...</th>\n",
       "      <td>...</td>\n",
       "      <td>...</td>\n",
       "      <td>...</td>\n",
       "      <td>...</td>\n",
       "      <td>...</td>\n",
       "      <td>...</td>\n",
       "      <td>...</td>\n",
       "      <td>...</td>\n",
       "      <td>...</td>\n",
       "      <td>...</td>\n",
       "      <td>...</td>\n",
       "      <td>...</td>\n",
       "      <td>...</td>\n",
       "      <td>...</td>\n",
       "      <td>...</td>\n",
       "      <td>...</td>\n",
       "      <td>...</td>\n",
       "      <td>...</td>\n",
       "      <td>...</td>\n",
       "      <td>...</td>\n",
       "      <td>...</td>\n",
       "    </tr>\n",
       "    <tr>\n",
       "      <th>Vanuatu</th>\n",
       "      <td>2888.309393</td>\n",
       "      <td>2897.327707</td>\n",
       "      <td>2886.920558</td>\n",
       "      <td>2824.882319</td>\n",
       "      <td>2999.097317</td>\n",
       "      <td>2956.627999</td>\n",
       "      <td>2962.647258</td>\n",
       "      <td>3051.178566</td>\n",
       "      <td>3033.908413</td>\n",
       "      <td>2989.091261</td>\n",
       "      <td>...</td>\n",
       "      <td>3239.887824</td>\n",
       "      <td>3192.453639</td>\n",
       "      <td>3159.338400</td>\n",
       "      <td>3131.971868</td>\n",
       "      <td>3116.077025</td>\n",
       "      <td>3037.784742</td>\n",
       "      <td>3061.787240</td>\n",
       "      <td>3116.645194</td>\n",
       "      <td>3128.469953</td>\n",
       "      <td>3153.015168</td>\n",
       "    </tr>\n",
       "    <tr>\n",
       "      <th>Vietnam</th>\n",
       "      <td>1673.249634</td>\n",
       "      <td>1736.014139</td>\n",
       "      <td>1847.620675</td>\n",
       "      <td>1957.644497</td>\n",
       "      <td>2091.599402</td>\n",
       "      <td>2252.633886</td>\n",
       "      <td>2425.526266</td>\n",
       "      <td>2587.055148</td>\n",
       "      <td>2701.770578</td>\n",
       "      <td>2797.785536</td>\n",
       "      <td>...</td>\n",
       "      <td>5089.411248</td>\n",
       "      <td>5352.011422</td>\n",
       "      <td>5574.458880</td>\n",
       "      <td>5815.118920</td>\n",
       "      <td>6098.489609</td>\n",
       "      <td>6438.260271</td>\n",
       "      <td>6767.902495</td>\n",
       "      <td>7155.745829</td>\n",
       "      <td>7586.384939</td>\n",
       "      <td>8041.178551</td>\n",
       "    </tr>\n",
       "    <tr>\n",
       "      <th>World</th>\n",
       "      <td>9680.269697</td>\n",
       "      <td>9645.256163</td>\n",
       "      <td>9647.070526</td>\n",
       "      <td>9657.888486</td>\n",
       "      <td>9783.828893</td>\n",
       "      <td>9943.132889</td>\n",
       "      <td>10167.967706</td>\n",
       "      <td>10396.385330</td>\n",
       "      <td>10508.291266</td>\n",
       "      <td>10731.543649</td>\n",
       "      <td>...</td>\n",
       "      <td>13904.629132</td>\n",
       "      <td>14275.461871</td>\n",
       "      <td>14554.850133</td>\n",
       "      <td>14857.762340</td>\n",
       "      <td>15189.648507</td>\n",
       "      <td>15516.986524</td>\n",
       "      <td>15837.382961</td>\n",
       "      <td>16253.385518</td>\n",
       "      <td>16636.415941</td>\n",
       "      <td>16911.193295</td>\n",
       "    </tr>\n",
       "    <tr>\n",
       "      <th>Zambia</th>\n",
       "      <td>2190.182814</td>\n",
       "      <td>2133.689042</td>\n",
       "      <td>2045.973257</td>\n",
       "      <td>2133.263108</td>\n",
       "      <td>1902.393940</td>\n",
       "      <td>1908.699005</td>\n",
       "      <td>1974.616550</td>\n",
       "      <td>1994.849503</td>\n",
       "      <td>1933.003375</td>\n",
       "      <td>1968.215803</td>\n",
       "      <td>...</td>\n",
       "      <td>3125.529308</td>\n",
       "      <td>3201.289398</td>\n",
       "      <td>3339.276135</td>\n",
       "      <td>3399.712999</td>\n",
       "      <td>3450.046561</td>\n",
       "      <td>3443.555206</td>\n",
       "      <td>3467.875156</td>\n",
       "      <td>3485.005238</td>\n",
       "      <td>3521.520144</td>\n",
       "      <td>3470.448801</td>\n",
       "    </tr>\n",
       "    <tr>\n",
       "      <th>Zimbabwe</th>\n",
       "      <td>3324.348171</td>\n",
       "      <td>3426.598094</td>\n",
       "      <td>3054.889178</td>\n",
       "      <td>3033.504852</td>\n",
       "      <td>3263.934978</td>\n",
       "      <td>3226.413930</td>\n",
       "      <td>3520.430146</td>\n",
       "      <td>3580.048793</td>\n",
       "      <td>3653.920016</td>\n",
       "      <td>3600.849291</td>\n",
       "      <td>...</td>\n",
       "      <td>2273.200073</td>\n",
       "      <td>2556.278431</td>\n",
       "      <td>2932.081336</td>\n",
       "      <td>2937.725624</td>\n",
       "      <td>2955.240287</td>\n",
       "      <td>2958.209004</td>\n",
       "      <td>2934.733650</td>\n",
       "      <td>3028.245976</td>\n",
       "      <td>3130.029501</td>\n",
       "      <td>2835.948532</td>\n",
       "    </tr>\n",
       "  </tbody>\n",
       "</table>\n",
       "<p>207 rows × 30 columns</p>\n",
       "</div>"
      ],
      "text/plain": [
       "Year                         1990          1991          1992          1993  \\\n",
       "Country                                                                       \n",
       "Albania               4842.734635   3507.746654   3275.444336   3610.520633   \n",
       "Algeria               8746.352901   8431.385028   8383.770248   8027.376688   \n",
       "Angola                5783.429064   5649.782130   5148.252824   3788.508107   \n",
       "Antigua and Barbuda  15459.551675  15586.896172  15497.464744  15991.764201   \n",
       "Arab World            9694.667544   9651.626577   9933.531454   9927.649928   \n",
       "...                           ...           ...           ...           ...   \n",
       "Vanuatu               2888.309393   2897.327707   2886.920558   2824.882319   \n",
       "Vietnam               1673.249634   1736.014139   1847.620675   1957.644497   \n",
       "World                 9680.269697   9645.256163   9647.070526   9657.888486   \n",
       "Zambia                2190.182814   2133.689042   2045.973257   2133.263108   \n",
       "Zimbabwe              3324.348171   3426.598094   3054.889178   3033.504852   \n",
       "\n",
       "Year                         1994          1995          1996          1997  \\\n",
       "Country                                                                       \n",
       "Albania               3934.375728   4486.152092   4924.905836   4414.631173   \n",
       "Algeria               7792.085182   7935.179841   8116.962721   8074.759953   \n",
       "Angola                3717.366881   4139.640473   4551.651329   4728.157560   \n",
       "Antigua and Barbuda  16697.248772  15628.396992  16303.723892  16828.640823   \n",
       "Arab World            9957.387061   9913.934988  10136.058519  10311.064917   \n",
       "...                           ...           ...           ...           ...   \n",
       "Vanuatu               2999.097317   2956.627999   2962.647258   3051.178566   \n",
       "Vietnam               2091.599402   2252.633886   2425.526266   2587.055148   \n",
       "World                 9783.828893   9943.132889  10167.967706  10396.385330   \n",
       "Zambia                1902.393940   1908.699005   1974.616550   1994.849503   \n",
       "Zimbabwe              3263.934978   3226.413930   3520.430146   3580.048793   \n",
       "\n",
       "Year                         1998          1999  ...          2010  \\\n",
       "Country                                          ...                 \n",
       "Albania               4834.778357   5492.654212  ...  10783.816180   \n",
       "Algeria               8360.150339   8506.345679  ...  10970.705149   \n",
       "Angola                4792.683851   4740.669833  ...   7692.434616   \n",
       "Antigua and Barbuda  17258.964856  17551.305968  ...  18205.985369   \n",
       "Arab World           10624.718674  10606.027497  ...  13347.112066   \n",
       "...                           ...           ...  ...           ...   \n",
       "Vanuatu               3033.908413   2989.091261  ...   3239.887824   \n",
       "Vietnam               2701.770578   2797.785536  ...   5089.411248   \n",
       "World                10508.291266  10731.543649  ...  13904.629132   \n",
       "Zambia                1933.003375   1968.215803  ...   3125.529308   \n",
       "Zimbabwe              3653.920016   3600.849291  ...   2273.200073   \n",
       "\n",
       "Year                         2011          2012          2013          2014  \\\n",
       "Country                                                                       \n",
       "Albania              11088.087801  11263.851342  11397.576226  11623.866679   \n",
       "Algeria              11078.240516  11233.534926  11319.097949  11512.705405   \n",
       "Angola                7675.445768   8036.690482   8140.527851   8239.828837   \n",
       "Antigua and Barbuda  17604.417102  17965.502327  17641.542533  18104.241470   \n",
       "Arab World           13531.438796  14032.961703  14155.876986  14219.562395   \n",
       "...                           ...           ...           ...           ...   \n",
       "Vanuatu               3192.453639   3159.338400   3131.971868   3116.077025   \n",
       "Vietnam               5352.011422   5574.458880   5815.118920   6098.489609   \n",
       "World                14275.461871  14554.850133  14857.762340  15189.648507   \n",
       "Zambia                3201.289398   3339.276135   3399.712999   3450.046561   \n",
       "Zimbabwe              2556.278431   2932.081336   2937.725624   2955.240287   \n",
       "\n",
       "Year                         2015          2016          2017          2018  \\\n",
       "Country                                                                       \n",
       "Albania              11916.422315  12331.127754  12811.759436  13366.303065   \n",
       "Algeria              11696.963757  11826.164666  11737.409353  11642.194485   \n",
       "Angola                8036.410610   7568.997643   7310.901738   6933.505560   \n",
       "Antigua and Barbuda  18595.084904  19417.964819  19840.076123  21115.798269   \n",
       "Arab World           14441.436785  14663.549625  14555.474921  14622.065826   \n",
       "...                           ...           ...           ...           ...   \n",
       "Vanuatu               3037.784742   3061.787240   3116.645194   3128.469953   \n",
       "Vietnam               6438.260271   6767.902495   7155.745829   7586.384939   \n",
       "World                15516.986524  15837.382961  16253.385518  16636.415941   \n",
       "Zambia                3443.555206   3467.875156   3485.005238   3521.520144   \n",
       "Zimbabwe              2958.209004   2934.733650   3028.245976   3130.029501   \n",
       "\n",
       "Year                         2019  \n",
       "Country                            \n",
       "Albania              13724.058790  \n",
       "Algeria              11510.557088  \n",
       "Angola                6670.332297  \n",
       "Antigua and Barbuda  21910.184985  \n",
       "Arab World           14602.938214  \n",
       "...                           ...  \n",
       "Vanuatu               3153.015168  \n",
       "Vietnam               8041.178551  \n",
       "World                16911.193295  \n",
       "Zambia                3470.448801  \n",
       "Zimbabwe              2835.948532  \n",
       "\n",
       "[207 rows x 30 columns]"
      ]
     },
     "metadata": {},
     "output_type": "display_data"
    }
   ],
   "source": [
    "gdp_pivoted = gdp_df.pivot_table('GDP_Per_Capita', index = 'Country', columns = 'Year')\n",
    "gdp_pivoted = gdp_pivoted.dropna(subset = [1990, 2017])\n",
    "display(gdp_pivoted)"
   ]
  },
  {
   "cell_type": "markdown",
   "id": "impressive-automation",
   "metadata": {},
   "source": [
    "15. Create a new column in `gdp_pivoted` named `Percent_Change`. This column should contain the percent change in GDP_Per_Capita from 1990 to 2017. Hint: Percent change is calculated as 100*(New Value - Old Value) / Old Value."
   ]
  },
  {
   "cell_type": "code",
   "execution_count": 13,
   "id": "pursuant-activation",
   "metadata": {},
   "outputs": [],
   "source": [
    "gdp_pivoted['Percent_Change'] = 100 * (gdp_pivoted.loc[:, 2017] - gdp_pivoted.loc[:, 1990]) / gdp_pivoted.loc[:, 1990]"
   ]
  },
  {
   "cell_type": "markdown",
   "id": "lyric-bishop",
   "metadata": {},
   "source": [
    "16. How many countries experienced a negative percent change in GDP per capita from 1990 to 2017?"
   ]
  },
  {
   "cell_type": "code",
   "execution_count": 14,
   "id": "reflected-initial",
   "metadata": {},
   "outputs": [
    {
     "data": {
      "text/plain": [
       "17"
      ]
     },
     "metadata": {},
     "output_type": "display_data"
    }
   ],
   "source": [
    "display(sum(gdp_pivoted['Percent_Change'] < 0))\n",
    "\n",
    "# 17 countries experienced a negative percent change in GDP per capita from 1990 to 2017."
   ]
  },
  {
   "cell_type": "markdown",
   "id": "otherwise-punishment",
   "metadata": {},
   "source": [
    "17. Which country had the highest % change in GDP per capita? Create a line plot showing this country's GDP per capita for all years from 1990 to 2017. Create another showing the country with the second highest % change in GDP. How do the trends in these countries compare?  \n",
    "    **Bonus:** Put both line charts on the same plot."
   ]
  },
  {
   "cell_type": "code",
   "execution_count": 15,
   "id": "animal-secondary",
   "metadata": {},
   "outputs": [
    {
     "data": {
      "image/png": "[encoded data removed]",
      "text/plain": [
       "<Figure size 432x288 with 1 Axes>"
      ]
     },
     "metadata": {
      "needs_background": "light"
     },
     "output_type": "display_data"
    }
   ],
   "source": [
    "gdp_pivoted_sorted = gdp_pivoted.sort_values('Percent_Change', ascending = False)\n",
    "gdp_pivoted_sorted.loc['Equatorial Guinea':'China', 1990:2017].T.plot()\n",
    "plt.ylabel('GDP per Capita (USD)');\n",
    "\n",
    "# Equatorial Guinea and China had the first and second highest percent change in GDP, respectively."
   ]
  },
  {
   "cell_type": "markdown",
   "id": "precious-house",
   "metadata": {},
   "source": [
    "18. Read in continents.csv contained in the `data` folder into a new dataframe called `continents`. We will be using this dataframe to add a new column to our dataset.\n"
   ]
  },
  {
   "cell_type": "code",
   "execution_count": 16,
   "id": "previous-graph",
   "metadata": {},
   "outputs": [],
   "source": [
    "continents = pd.read_csv('../data/continents.csv')"
   ]
  },
  {
   "cell_type": "markdown",
   "id": "brown-judge",
   "metadata": {},
   "source": [
    "19. Merge gdp_df and continents. Keep only the countries that appear in both data frames. Save the result back to gdp_df."
   ]
  },
  {
   "cell_type": "code",
   "execution_count": 17,
   "id": "logical-helmet",
   "metadata": {},
   "outputs": [],
   "source": [
    "gdp_df = continents.merge(gdp_df)"
   ]
  },
  {
   "cell_type": "markdown",
   "id": "legendary-sleeve",
   "metadata": {},
   "source": [
    "20. Determine the number of countries per continent. Create a bar chart showing this."
   ]
  },
  {
   "cell_type": "code",
   "execution_count": 18,
   "id": "rubber-heating",
   "metadata": {},
   "outputs": [
    {
     "data": {
      "image/png": "[encoded data removed]",
      "text/plain": [
       "<Figure size 432x288 with 1 Axes>"
      ]
     },
     "metadata": {
      "needs_background": "light"
     },
     "output_type": "display_data"
    }
   ],
   "source": [
    "countries_by_continent = gdp_df.groupby('Continent').agg({'Country' : pd.Series.nunique})\n",
    "sns.barplot(data = countries_by_continent, x = countries_by_continent.index, y = 'Country')\n",
    "plt.xticks(rotation = 45, ha = 'right', rotation_mode = 'anchor')\n",
    "plt.ylabel('Number of Countries');"
   ]
  },
  {
   "cell_type": "markdown",
   "id": "missing-wisdom",
   "metadata": {},
   "source": [
    "21. Create a seaborn boxplot showing GDP per capita in 2014 split out by continent. What do you notice?"
   ]
  },
  {
   "cell_type": "code",
   "execution_count": 19,
   "id": "accepting-candle",
   "metadata": {},
   "outputs": [
    {
     "data": {
      "image/png": "[encoded data removed]",
      "text/plain": [
       "<Figure size 432x288 with 1 Axes>"
      ]
     },
     "metadata": {
      "needs_background": "light"
     },
     "output_type": "display_data"
    }
   ],
   "source": [
    "sns.boxplot(data = gdp_df[gdp_df['Year'] == 2014], x = 'Continent', y = 'GDP_Per_Capita')\n",
    "plt.xticks(rotation = 45, ha = 'right', rotation_mode = 'anchor')\n",
    "plt.ylabel('GDP Per Capita (USD)');\n",
    "\n",
    "# Europe and Africa had the highest and lowest median GDP per capita in 2014, respectively. Three of the top four highest GDP per capitas were countries in Asia."
   ]
  },
  {
   "cell_type": "markdown",
   "id": "damaged-variable",
   "metadata": {},
   "source": [
    "22. Read in internet_use.csv into a DataFrame called `internet_df`. You will most likely get an error message when doing this - figure out what is going wrong and fix it. Take a look at the first and last five rows and make any corrections to your `read_csv()` call to fix this. Again, **do not** modify the original datasets. "
   ]
  },
  {
   "cell_type": "code",
   "execution_count": 20,
   "id": "bright-duncan",
   "metadata": {},
   "outputs": [],
   "source": [
    "internet_df = pd.read_csv('../data/internet_use.csv', nrows = 4495)"
   ]
  },
  {
   "cell_type": "markdown",
   "id": "alert-ceremony",
   "metadata": {},
   "source": [
    "23. Drop the Value Footnotes column and then rename the columns to ‘Country’, ‘Year’, and ‘Internet_Users_Pct’."
   ]
  },
  {
   "cell_type": "code",
   "execution_count": 21,
   "id": "variable-transmission",
   "metadata": {},
   "outputs": [],
   "source": [
    "internet_df = internet_df.drop(columns = 'Value Footnotes')\n",
    "internet_df.columns = ['Country', 'Year', 'Internet_Users_Pct']"
   ]
  },
  {
   "cell_type": "markdown",
   "id": "strong-mexican",
   "metadata": {},
   "source": [
    "24. How many rows and columns does this new dataset have? What are the types of its columns? Ensure that the `Internet_Users_Pct` column is a numeric data type and fix it if it is not."
   ]
  },
  {
   "cell_type": "code",
   "execution_count": 22,
   "id": "classified-fruit",
   "metadata": {},
   "outputs": [
    {
     "name": "stdout",
     "output_type": "stream",
     "text": [
      "<class 'pandas.core.frame.DataFrame'>\n",
      "RangeIndex: 4495 entries, 0 to 4494\n",
      "Data columns (total 3 columns):\n",
      " #   Column              Non-Null Count  Dtype  \n",
      "---  ------              --------------  -----  \n",
      " 0   Country             4495 non-null   object \n",
      " 1   Year                4495 non-null   int64  \n",
      " 2   Internet_Users_Pct  4495 non-null   float64\n",
      "dtypes: float64(1), int64(1), object(1)\n",
      "memory usage: 105.5+ KB\n"
     ]
    },
    {
     "data": {
      "text/plain": [
       "None"
      ]
     },
     "metadata": {},
     "output_type": "display_data"
    }
   ],
   "source": [
    "display(internet_df.info())\n",
    "\n",
    "# internet_df has 4495 rows and 3 columns."
   ]
  },
  {
   "cell_type": "markdown",
   "id": "mental-environment",
   "metadata": {},
   "source": [
    "25. What is the first year that has a nonzero internet users percentage reported? What is the general trend in internet users percentage over the years. Pick a visualization that you think illustrates this trend well."
   ]
  },
  {
   "cell_type": "code",
   "execution_count": 23,
   "id": "outdoor-graduation",
   "metadata": {},
   "outputs": [
    {
     "data": {
      "text/html": [
       "<div>\n",
       "<style scoped>\n",
       "    .dataframe tbody tr th:only-of-type {\n",
       "        vertical-align: middle;\n",
       "    }\n",
       "\n",
       "    .dataframe tbody tr th {\n",
       "        vertical-align: top;\n",
       "    }\n",
       "\n",
       "    .dataframe thead th {\n",
       "        text-align: right;\n",
       "    }\n",
       "</style>\n",
       "<table border=\"1\" class=\"dataframe\">\n",
       "  <thead>\n",
       "    <tr style=\"text-align: right;\">\n",
       "      <th></th>\n",
       "      <th>Country</th>\n",
       "      <th>Year</th>\n",
       "      <th>Internet_Users_Pct</th>\n",
       "    </tr>\n",
       "  </thead>\n",
       "  <tbody>\n",
       "    <tr>\n",
       "      <th>2048</th>\n",
       "      <td>Italy</td>\n",
       "      <td>1990</td>\n",
       "      <td>0.017545</td>\n",
       "    </tr>\n",
       "    <tr>\n",
       "      <th>1107</th>\n",
       "      <td>Denmark</td>\n",
       "      <td>1990</td>\n",
       "      <td>0.097277</td>\n",
       "    </tr>\n",
       "    <tr>\n",
       "      <th>375</th>\n",
       "      <td>Belgium</td>\n",
       "      <td>1990</td>\n",
       "      <td>0.001007</td>\n",
       "    </tr>\n",
       "    <tr>\n",
       "      <th>1388</th>\n",
       "      <td>Finland</td>\n",
       "      <td>1990</td>\n",
       "      <td>0.401088</td>\n",
       "    </tr>\n",
       "    <tr>\n",
       "      <th>4301</th>\n",
       "      <td>United States</td>\n",
       "      <td>1990</td>\n",
       "      <td>0.784729</td>\n",
       "    </tr>\n",
       "    <tr>\n",
       "      <th>...</th>\n",
       "      <td>...</td>\n",
       "      <td>...</td>\n",
       "      <td>...</td>\n",
       "    </tr>\n",
       "    <tr>\n",
       "      <th>2175</th>\n",
       "      <td>Kiribati</td>\n",
       "      <td>2014</td>\n",
       "      <td>12.250000</td>\n",
       "    </tr>\n",
       "    <tr>\n",
       "      <th>848</th>\n",
       "      <td>Colombia</td>\n",
       "      <td>2014</td>\n",
       "      <td>52.570000</td>\n",
       "    </tr>\n",
       "    <tr>\n",
       "      <th>1299</th>\n",
       "      <td>Ethiopia</td>\n",
       "      <td>2014</td>\n",
       "      <td>2.900000</td>\n",
       "    </tr>\n",
       "    <tr>\n",
       "      <th>623</th>\n",
       "      <td>Burundi</td>\n",
       "      <td>2014</td>\n",
       "      <td>1.380000</td>\n",
       "    </tr>\n",
       "    <tr>\n",
       "      <th>0</th>\n",
       "      <td>Afghanistan</td>\n",
       "      <td>2014</td>\n",
       "      <td>6.390000</td>\n",
       "    </tr>\n",
       "  </tbody>\n",
       "</table>\n",
       "<p>4106 rows × 3 columns</p>\n",
       "</div>"
      ],
      "text/plain": [
       "            Country  Year  Internet_Users_Pct\n",
       "2048          Italy  1990            0.017545\n",
       "1107        Denmark  1990            0.097277\n",
       "375         Belgium  1990            0.001007\n",
       "1388        Finland  1990            0.401088\n",
       "4301  United States  1990            0.784729\n",
       "...             ...   ...                 ...\n",
       "2175       Kiribati  2014           12.250000\n",
       "848        Colombia  2014           52.570000\n",
       "1299       Ethiopia  2014            2.900000\n",
       "623         Burundi  2014            1.380000\n",
       "0       Afghanistan  2014            6.390000\n",
       "\n",
       "[4106 rows x 3 columns]"
      ]
     },
     "metadata": {},
     "output_type": "display_data"
    },
    {
     "data": {
      "image/png": "[encoded data removed]",
      "text/plain": [
       "<Figure size 432x288 with 1 Axes>"
      ]
     },
     "metadata": {
      "needs_background": "light"
     },
     "output_type": "display_data"
    }
   ],
   "source": [
    "display(internet_df[internet_df['Internet_Users_Pct'] > 0].sort_values('Year'))\n",
    "sns.lineplot(data = internet_df[internet_df['Year'] >= 1990], x = 'Year', y = 'Internet_Users_Pct', ci = 'sd')\n",
    "plt.ylabel('Percentage of Internet Users Worldwide');\n",
    "# 1990 is the first year that has non-zero internet users percentage. The general trend in internet users percentage is an increase over time."
   ]
  },
  {
   "cell_type": "markdown",
   "id": "silver-charter",
   "metadata": {},
   "source": [
    "26. Merge `gdp_df` and `internet_df` (on Country and Year) into a single DataFrame named `gdp_and_internet_use`. Keep only countries and years that appear in both tables.  \n",
    "    **Difficult Bonus:** Do not attempt this part until you have completed all other portions of the data question. Some countries have slightly different names in the internet use and gdp dataframes. For example, the Central African Republic is \"Central African Republic\" in the gdp dataframe and \"Central African Rep.\" in the internet use dataframe. Find as many instances like this as you can and resolve them so that when merging you keep the maximum number of countries possible."
   ]
  },
  {
   "cell_type": "code",
   "execution_count": 24,
   "id": "double-ontario",
   "metadata": {},
   "outputs": [],
   "source": [
    "from nltk.tokenize import RegexpTokenizer\n",
    "from nltk.corpus import stopwords\n",
    "from collections import defaultdict\n",
    "\n",
    "# Initialize nltk tokenizer and stopwords dictionary\n",
    "pattern = r'''(?x)          # set flag to allow verbose regexps\n",
    "        (?:[A-Z]\\.)+        # abbreviations, e.g. U.S.A.\n",
    "      | \\w+(?:-\\w+)*        # words with optional internal hyphens\n",
    "    '''\n",
    "tokenizer = RegexpTokenizer(pattern)\n",
    "stop_words = stopwords.words('english') + ['rep', 'republic']\n",
    "\n",
    "# Filter unmatched countries in gdp_df and internet_df\n",
    "gdp_unmatched = pd.DataFrame(index = set(gdp_df[~gdp_df['Country'].isin(internet_df['Country'])]['Country']))\n",
    "internet_unmatched = pd.DataFrame(index = set(internet_df[~internet_df['Country'].isin(gdp_df['Country'])]['Country']))\n",
    "\n",
    "# Tokenize unmatched country names from gdp dataset\n",
    "gdp_countries = [tokenizer.tokenize(i) for i in gdp_unmatched.index]\n",
    "gdp_countries = list(map(lambda tokens: [t for t in tokens if t.lower() not in stop_words], gdp_countries))\n",
    "gdp_unmatched['tokenized'] = gdp_countries\n",
    "\n",
    "# Tokenize unmatched country names from internet dataset\n",
    "internet_countries = [tokenizer.tokenize(i) for i in internet_unmatched.index]\n",
    "internet_countries = list(map(lambda tokens: [t for t in tokens if t.lower() not in stop_words], internet_countries))\n",
    "internet_unmatched['tokenized'] = internet_countries\n",
    "\n",
    "# Initialize empty dictionary to store match counts\n",
    "matches = defaultdict(dict)\n",
    "\n",
    "# Iterate through unmatched gdp country names\n",
    "for index1, tokens1 in gdp_unmatched.itertuples():\n",
    "    \n",
    "    # Iterate through unmatched internet country names\n",
    "    for index2, tokens2 in internet_unmatched.itertuples():\n",
    "        \n",
    "        # Store match counts between tokenized country names\n",
    "        matches[index1][index2] = len([t for t in tokens1 if t.startswith(tuple(tokens2))] + \n",
    "                                      [t for t in tokens2 if t.startswith(tuple(tokens1))])\n",
    "\n",
    "# Convert dictionary to dataframe        \n",
    "matches = pd.DataFrame.from_dict(matches)\n",
    "\n",
    "# Initialize empty dictionary for matched country names\n",
    "countries = {}\n",
    "\n",
    "# Iterate through match counts between country names\n",
    "for index, match in matches.iterrows():\n",
    "    \n",
    "    # Find matching country name based on max match count in forward direction\n",
    "    forward_match = np.where(match == np.amax(match))[0].tolist()\n",
    "\n",
    "    # Make sure only one matching country name in forward direction\n",
    "    if len(forward_match) == 1:\n",
    "\n",
    "        # Find matching country name based on max match count in reverse direction\n",
    "        reverse_match = np.where(matches.iloc[:, forward_match] == np.amax(matches.iloc[:, forward_match]))[0].tolist()\n",
    "        \n",
    "        # Make sure only one matching country name in reverse direction\n",
    "        if len(reverse_match) == 1:\n",
    "            \n",
    "            # Store matching country name pair as key-value pair\n",
    "            countries[matches.iloc[reverse_match, forward_match].index[0]] = matches.iloc[reverse_match, forward_match].columns[0]\n",
    "\n",
    "# Change country names for newly matched countries in internet_df\n",
    "internet_df = internet_df.assign(temp = list(map(countries.get, internet_df['Country'])))\n",
    "internet_df['Country'] = np.where(~internet_df['temp'].isna(), internet_df['temp'], internet_df['Country'])\n",
    "internet_df = internet_df.drop(columns = 'temp')\n",
    "\n",
    "# Merge gdp_df and internet_df by country and year\n",
    "gdp_and_internet_use = gdp_df.merge(internet_df, on = ['Country', 'Year'])"
   ]
  },
  {
   "cell_type": "markdown",
   "id": "handy-medline",
   "metadata": {},
   "source": [
    "27.\tLook at the first five rows of your new data frame to confirm it merged correctly. Also, check the last five rows to make sure the data is clean and as expected."
   ]
  },
  {
   "cell_type": "code",
   "execution_count": 25,
   "id": "liable-chaos",
   "metadata": {},
   "outputs": [
    {
     "data": {
      "text/html": [
       "<div>\n",
       "<style scoped>\n",
       "    .dataframe tbody tr th:only-of-type {\n",
       "        vertical-align: middle;\n",
       "    }\n",
       "\n",
       "    .dataframe tbody tr th {\n",
       "        vertical-align: top;\n",
       "    }\n",
       "\n",
       "    .dataframe thead th {\n",
       "        text-align: right;\n",
       "    }\n",
       "</style>\n",
       "<table border=\"1\" class=\"dataframe\">\n",
       "  <thead>\n",
       "    <tr style=\"text-align: right;\">\n",
       "      <th></th>\n",
       "      <th>Continent</th>\n",
       "      <th>Country</th>\n",
       "      <th>Year</th>\n",
       "      <th>GDP_Per_Capita</th>\n",
       "      <th>Internet_Users_Pct</th>\n",
       "    </tr>\n",
       "  </thead>\n",
       "  <tbody>\n",
       "    <tr>\n",
       "      <th>0</th>\n",
       "      <td>Asia</td>\n",
       "      <td>Afghanistan</td>\n",
       "      <td>2014</td>\n",
       "      <td>2102.385234</td>\n",
       "      <td>6.390000</td>\n",
       "    </tr>\n",
       "    <tr>\n",
       "      <th>1</th>\n",
       "      <td>Asia</td>\n",
       "      <td>Afghanistan</td>\n",
       "      <td>2013</td>\n",
       "      <td>2116.465454</td>\n",
       "      <td>5.900000</td>\n",
       "    </tr>\n",
       "    <tr>\n",
       "      <th>2</th>\n",
       "      <td>Asia</td>\n",
       "      <td>Afghanistan</td>\n",
       "      <td>2012</td>\n",
       "      <td>2075.491747</td>\n",
       "      <td>5.454545</td>\n",
       "    </tr>\n",
       "    <tr>\n",
       "      <th>3</th>\n",
       "      <td>Asia</td>\n",
       "      <td>Afghanistan</td>\n",
       "      <td>2011</td>\n",
       "      <td>1904.559799</td>\n",
       "      <td>5.000000</td>\n",
       "    </tr>\n",
       "    <tr>\n",
       "      <th>4</th>\n",
       "      <td>Asia</td>\n",
       "      <td>Afghanistan</td>\n",
       "      <td>2010</td>\n",
       "      <td>1957.029338</td>\n",
       "      <td>4.000000</td>\n",
       "    </tr>\n",
       "  </tbody>\n",
       "</table>\n",
       "</div>"
      ],
      "text/plain": [
       "  Continent      Country  Year  GDP_Per_Capita  Internet_Users_Pct\n",
       "0      Asia  Afghanistan  2014     2102.385234            6.390000\n",
       "1      Asia  Afghanistan  2013     2116.465454            5.900000\n",
       "2      Asia  Afghanistan  2012     2075.491747            5.454545\n",
       "3      Asia  Afghanistan  2011     1904.559799            5.000000\n",
       "4      Asia  Afghanistan  2010     1957.029338            4.000000"
      ]
     },
     "metadata": {},
     "output_type": "display_data"
    },
    {
     "data": {
      "text/html": [
       "<div>\n",
       "<style scoped>\n",
       "    .dataframe tbody tr th:only-of-type {\n",
       "        vertical-align: middle;\n",
       "    }\n",
       "\n",
       "    .dataframe tbody tr th {\n",
       "        vertical-align: top;\n",
       "    }\n",
       "\n",
       "    .dataframe thead th {\n",
       "        text-align: right;\n",
       "    }\n",
       "</style>\n",
       "<table border=\"1\" class=\"dataframe\">\n",
       "  <thead>\n",
       "    <tr style=\"text-align: right;\">\n",
       "      <th></th>\n",
       "      <th>Continent</th>\n",
       "      <th>Country</th>\n",
       "      <th>Year</th>\n",
       "      <th>GDP_Per_Capita</th>\n",
       "      <th>Internet_Users_Pct</th>\n",
       "    </tr>\n",
       "  </thead>\n",
       "  <tbody>\n",
       "    <tr>\n",
       "      <th>3803</th>\n",
       "      <td>Africa</td>\n",
       "      <td>Zimbabwe</td>\n",
       "      <td>1997</td>\n",
       "      <td>3580.048793</td>\n",
       "      <td>0.033080</td>\n",
       "    </tr>\n",
       "    <tr>\n",
       "      <th>3804</th>\n",
       "      <td>Africa</td>\n",
       "      <td>Zimbabwe</td>\n",
       "      <td>1996</td>\n",
       "      <td>3520.430146</td>\n",
       "      <td>0.016790</td>\n",
       "    </tr>\n",
       "    <tr>\n",
       "      <th>3805</th>\n",
       "      <td>Africa</td>\n",
       "      <td>Zimbabwe</td>\n",
       "      <td>1995</td>\n",
       "      <td>3226.413930</td>\n",
       "      <td>0.007684</td>\n",
       "    </tr>\n",
       "    <tr>\n",
       "      <th>3806</th>\n",
       "      <td>Africa</td>\n",
       "      <td>Zimbabwe</td>\n",
       "      <td>1994</td>\n",
       "      <td>3263.934978</td>\n",
       "      <td>0.001739</td>\n",
       "    </tr>\n",
       "    <tr>\n",
       "      <th>3807</th>\n",
       "      <td>Africa</td>\n",
       "      <td>Zimbabwe</td>\n",
       "      <td>1990</td>\n",
       "      <td>3324.348171</td>\n",
       "      <td>0.000000</td>\n",
       "    </tr>\n",
       "  </tbody>\n",
       "</table>\n",
       "</div>"
      ],
      "text/plain": [
       "     Continent   Country  Year  GDP_Per_Capita  Internet_Users_Pct\n",
       "3803    Africa  Zimbabwe  1997     3580.048793            0.033080\n",
       "3804    Africa  Zimbabwe  1996     3520.430146            0.016790\n",
       "3805    Africa  Zimbabwe  1995     3226.413930            0.007684\n",
       "3806    Africa  Zimbabwe  1994     3263.934978            0.001739\n",
       "3807    Africa  Zimbabwe  1990     3324.348171            0.000000"
      ]
     },
     "metadata": {},
     "output_type": "display_data"
    }
   ],
   "source": [
    "display(gdp_and_internet_use.head())\n",
    "display(gdp_and_internet_use.tail())"
   ]
  },
  {
   "cell_type": "markdown",
   "id": "sweet-recognition",
   "metadata": {},
   "source": [
    "28. Create a new DataFrame, named `gdp_and_internet_use_2014` by extracting data for the year 2014 from `gdp_and_internet_use`. How many countries have at least 90% internet users in 2014?"
   ]
  },
  {
   "cell_type": "code",
   "execution_count": 26,
   "id": "outstanding-pension",
   "metadata": {},
   "outputs": [
    {
     "data": {
      "text/plain": [
       "13"
      ]
     },
     "metadata": {},
     "output_type": "display_data"
    }
   ],
   "source": [
    "gdp_and_internet_use_2014 = gdp_and_internet_use[gdp_and_internet_use['Year'] == 2014]\n",
    "display(sum(gdp_and_internet_use_2014['Internet_Users_Pct'] >= 90))\n",
    "\n",
    "# 13 countries have at leat 90% internet users in 2014."
   ]
  },
  {
   "cell_type": "markdown",
   "id": "african-performance",
   "metadata": {},
   "source": [
    "29. Find the countries that had the top 3 largest GDP per capita figures for 2014. Create a seaborn FacetGrid showing the change in internet user percentage over time for these three countries. Each individual figure in the facet grid will represent a single country.  What trends do you notice?"
   ]
  },
  {
   "cell_type": "code",
   "execution_count": 27,
   "id": "improved-stamp",
   "metadata": {},
   "outputs": [
    {
     "data": {
      "text/html": [
       "<div>\n",
       "<style scoped>\n",
       "    .dataframe tbody tr th:only-of-type {\n",
       "        vertical-align: middle;\n",
       "    }\n",
       "\n",
       "    .dataframe tbody tr th {\n",
       "        vertical-align: top;\n",
       "    }\n",
       "\n",
       "    .dataframe thead th {\n",
       "        text-align: right;\n",
       "    }\n",
       "</style>\n",
       "<table border=\"1\" class=\"dataframe\">\n",
       "  <thead>\n",
       "    <tr style=\"text-align: right;\">\n",
       "      <th></th>\n",
       "      <th>Continent</th>\n",
       "      <th>Country</th>\n",
       "      <th>Year</th>\n",
       "      <th>GDP_Per_Capita</th>\n",
       "      <th>Internet_Users_Pct</th>\n",
       "    </tr>\n",
       "  </thead>\n",
       "  <tbody>\n",
       "    <tr>\n",
       "      <th>2048</th>\n",
       "      <td>Asia</td>\n",
       "      <td>Macao SAR, China</td>\n",
       "      <td>2014</td>\n",
       "      <td>156514.133850</td>\n",
       "      <td>69.78</td>\n",
       "    </tr>\n",
       "    <tr>\n",
       "      <th>2024</th>\n",
       "      <td>Europe</td>\n",
       "      <td>Luxembourg</td>\n",
       "      <td>2014</td>\n",
       "      <td>108760.916030</td>\n",
       "      <td>94.67</td>\n",
       "    </tr>\n",
       "    <tr>\n",
       "      <th>2831</th>\n",
       "      <td>Asia</td>\n",
       "      <td>Qatar</td>\n",
       "      <td>2014</td>\n",
       "      <td>95578.416973</td>\n",
       "      <td>91.49</td>\n",
       "    </tr>\n",
       "  </tbody>\n",
       "</table>\n",
       "</div>"
      ],
      "text/plain": [
       "     Continent           Country  Year  GDP_Per_Capita  Internet_Users_Pct\n",
       "2048      Asia  Macao SAR, China  2014   156514.133850               69.78\n",
       "2024    Europe        Luxembourg  2014   108760.916030               94.67\n",
       "2831      Asia             Qatar  2014    95578.416973               91.49"
      ]
     },
     "metadata": {},
     "output_type": "display_data"
    },
    {
     "data": {
      "image/png": "[encoded data removed]",
      "text/plain": [
       "<Figure size 648x216 with 3 Axes>"
      ]
     },
     "metadata": {
      "needs_background": "light"
     },
     "output_type": "display_data"
    }
   ],
   "source": [
    "display(gdp_and_internet_use_2014.sort_values('GDP_Per_Capita', ascending = False).head(3))\n",
    "grid = sns.FacetGrid(data = gdp_and_internet_use[gdp_and_internet_use['Country'].isin(['Luxembourg', 'Qatar', 'Singapore'])], col = 'Country', hue = 'Country')\n",
    "grid.map_dataframe(sns.lineplot, x = 'Year', y = 'Internet_Users_Pct');"
   ]
  },
  {
   "cell_type": "markdown",
   "id": "unnecessary-tactics",
   "metadata": {},
   "source": [
    "30. Create a scatter plot of Internet Use vs GDP per Capita for the year 2014. What do you notice?"
   ]
  },
  {
   "cell_type": "code",
   "execution_count": 28,
   "id": "positive-outline",
   "metadata": {},
   "outputs": [
    {
     "data": {
      "image/png": "[encoded data removed]",
      "text/plain": [
       "<Figure size 432x288 with 1 Axes>"
      ]
     },
     "metadata": {
      "needs_background": "light"
     },
     "output_type": "display_data"
    }
   ],
   "source": [
    "sns.scatterplot(data = gdp_and_internet_use_2014, x = 'GDP_Per_Capita', y = 'Internet_Users_Pct');\n",
    "\n",
    "# The scatter plot shows a moderately strong positive correlation between GDP per capita and internet use."
   ]
  },
  {
   "cell_type": "markdown",
   "id": "bound-catholic",
   "metadata": {},
   "source": [
    "31. Find the correlation between GDP per Capita and Internet Use for the year 2014. What is the meaning of this number?"
   ]
  },
  {
   "cell_type": "code",
   "execution_count": 29,
   "id": "reserved-induction",
   "metadata": {},
   "outputs": [
    {
     "data": {
      "text/plain": [
       "array([[1.        , 0.75973948],\n",
       "       [0.75973948, 1.        ]])"
      ]
     },
     "metadata": {},
     "output_type": "display_data"
    }
   ],
   "source": [
    "display(np.corrcoef(gdp_and_internet_use_2014['GDP_Per_Capita'], gdp_and_internet_use_2014['Internet_Users_Pct']))\n",
    "\n",
    "# The correlation coefficient between GDP per capita and internet is R = 0.825, meaning a significant and positive relationship exists between the two variables."
   ]
  },
  {
   "cell_type": "markdown",
   "id": "fluid-square",
   "metadata": {},
   "source": [
    "32. Add a column to `gdp_and_internet_use_2014` and calculate the logarithm of GDP per capita. Find the correlation between the log of GDP per capita and internet users percentage. How does this compare to the calculation in the previous part?"
   ]
  },
  {
   "cell_type": "code",
   "execution_count": 30,
   "id": "urban-boston",
   "metadata": {},
   "outputs": [
    {
     "data": {
      "text/plain": [
       "array([[1.        , 0.89810682],\n",
       "       [0.89810682, 1.        ]])"
      ]
     },
     "metadata": {},
     "output_type": "display_data"
    }
   ],
   "source": [
    "gdp_and_internet_use_2014 = gdp_and_internet_use_2014.assign(Log_GDP_Per_Capita = lambda x: np.log(x['GDP_Per_Capita']))\n",
    "display(np.corrcoef(gdp_and_internet_use_2014['Log_GDP_Per_Capita'], gdp_and_internet_use_2014['Internet_Users_Pct']))\n",
    "\n",
    "# The correlation coefficient between the log of GDP per capita and internet use is R = 0.904, which is higher than before."
   ]
  },
  {
   "cell_type": "markdown",
   "id": "favorite-retreat",
   "metadata": {},
   "source": [
    "33. Filter the original dataset down to just the United States for all available years. Calculate correlation between internet use and gdp per capita. Is this meaningful or useful?"
   ]
  },
  {
   "cell_type": "code",
   "execution_count": 31,
   "id": "directed-appliance",
   "metadata": {},
   "outputs": [
    {
     "data": {
      "text/plain": [
       "array([[1.        , 0.99166007],\n",
       "       [0.99166007, 1.        ]])"
      ]
     },
     "metadata": {},
     "output_type": "display_data"
    }
   ],
   "source": [
    "united_states = gdp_and_internet_use[gdp_and_internet_use['Country'] == 'United States']\n",
    "display(np.corrcoef(united_states['GDP_Per_Capita'], united_states['Internet_Users_Pct']))\n",
    "\n",
    "# This correlation tells us the relationship between GDP per capita growth and internet use growth in the United States is linear over time."
   ]
  },
  {
   "cell_type": "markdown",
   "id": "blank-plasma",
   "metadata": {},
   "source": [
    "### Solo Exploration and Presentation:\n",
    "1. Choose and download another data set from the UN data [http://data.un.org/Explorer.aspx](http://data.un.org/Explorer.aspx) to merge with your data and explore. Prepare a short (< 5 minute) presentation of your findings. Report any interesting correlations you find. Include visualizations and consider adding interactivity with `ipywidgets`. This presentation can be done either in a Jupyter Notebook or using another presentation software, such as PowerPoint. Check out [Jupyter Slides](https://medium.com/learning-machine-learning/present-your-data-science-projects-with-jupyter-slides-75f20735eb0f) if you have time. This allows you to turn your jupyter notebook into a slideshow.\n",
    "2.    If time allows, check out the plotly library to add additional interativity to your plots. [https://plotly.com/python/plotly-express/](https://plotly.com/python/plotly-express/).\n"
   ]
  }
 ],
 "metadata": {
  "kernelspec": {
   "display_name": "Python 3",
   "language": "python",
   "name": "python3"
  },
  "language_info": {
   "codemirror_mode": {
    "name": "ipython",
    "version": 3
   },
   "file_extension": ".py",
   "mimetype": "text/x-python",
   "name": "python",
   "nbconvert_exporter": "python",
   "pygments_lexer": "ipython3",
   "version": "3.8.10"
  }
 },
 "nbformat": 4,
 "nbformat_minor": 5
}
